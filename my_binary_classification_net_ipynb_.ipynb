{
  "nbformat": 4,
  "nbformat_minor": 0,
  "metadata": {
    "colab": {
      "provenance": []
    },
    "kernelspec": {
      "name": "python3",
      "display_name": "Python 3"
    },
    "language_info": {
      "name": "python"
    },
    "accelerator": "GPU",
    "gpuClass": "standard"
  },
  "cells": [
    {
      "cell_type": "code",
      "source": [
        "import os\n",
        "\n",
        "import pandas as pd\n",
        "import numpy as np\n",
        "\n",
        "\n",
        "from sklearn.model_selection import train_test_split\n",
        "import torch\n",
        "import torch.nn as nn\n",
        "import torch.nn.functional as F\n",
        "import torch.optim as optim # для оптимизаторов\n",
        "from torchvision import datasets # для данных\n",
        "import torchvision.transforms as transforms # для преобразований тензоров\n",
        "\n",
        "import matplotlib.pyplot as plt"
      ],
      "metadata": {
        "id": "GpPZjCGkbY9S"
      },
      "execution_count": null,
      "outputs": []
    },
    {
      "cell_type": "markdown",
      "source": [
        "### Загрузка данных и их анализ"
      ],
      "metadata": {
        "id": "FlTvgDAYfuSl"
      }
    },
    {
      "cell_type": "markdown",
      "source": [
        "Загрузим наши данные."
      ],
      "metadata": {
        "id": "1P5mTWLLf04j"
      }
    },
    {
      "cell_type": "code",
      "source": [
        "from torch.utils.data import TensorDataset, Dataset\n",
        "\n",
        "\n",
        "class CSVDataset(Dataset):\n",
        "    def __init__(self, x, y=None, transforms=None):\n",
        "        self.x = x\n",
        "        self.y = y\n",
        "        self.transforms = transforms\n",
        "\n",
        "    def __len__(self):\n",
        "        return len(self.x)\n",
        "\n",
        "    def __getitem__(self, idx):\n",
        "        sample_x = self.x[idx]\n",
        "        if self.y is not None:\n",
        "          sample_y = self.y[idx]\n",
        "          return (torch.tensor(sample_x, dtype=torch.float),\n",
        "                  torch.tensor(sample_y, dtype=torch.float),\n",
        "                 )\n",
        "        else:\n",
        "          sample_y = None\n",
        "          return (torch.tensor(sample_x, dtype=torch.float), None)\n"
      ],
      "metadata": {
        "id": "eEir5OrQGkj2"
      },
      "execution_count": null,
      "outputs": []
    },
    {
      "cell_type": "code",
      "source": [
        "\n",
        "# Load the data from a CSV file\n",
        "\n",
        "df_train_data = pd.read_csv('train.csv', header=None)\n",
        "df_train_target = pd.read_csv('train-target.csv', header=None)\n",
        "\n",
        "\n",
        "X_train, X_test, y_train, y_test = train_test_split(df_train_data, df_train_target, test_size=0.2)\n",
        "\n",
        "\n",
        "#==============================================================\n",
        "\n",
        "# Импортируем класс Normalizer из модуля preprocessing библиотеки sklearn\n",
        "from sklearn.preprocessing import Normalizer\n",
        "# Отмасштабируем наши признаки\n",
        "# Создадим объект класса Normalizer\n",
        "\n",
        "\n",
        "\n",
        "scaler = Normalizer()\n",
        "\n",
        "# Сделаем .fit() на обучении\n",
        "scaler.fit(X_train, y_train) # считает среднее по выборке и std\n",
        "\n",
        "# .transform() на обучении и тесте (возвращает numpy, поэтому надо самим конвертировать обратно в dataframe с нужными индексами колонками)\n",
        "#X_train = pd.DataFrame(scaler.transform(X_train), index=X_train.index, columns=X_train.columns)\n",
        "\n",
        "\n",
        "#=========================================================================\n",
        "\n",
        "\n",
        "train_dataset = CSVDataset(X_train.values,\n",
        "                           y_train.values)\n",
        "\n",
        "test_dataset = CSVDataset(X_test.values,\n",
        "                           y_test.values)\n",
        "\n",
        "trainset = torch.utils.data.DataLoader(train_dataset, batch_size=1, shuffle=True)\n",
        "testset = torch.utils.data.DataLoader(test_dataset, batch_size=1, shuffle=True)"
      ],
      "metadata": {
        "id": "KnBLB-dIUlqU"
      },
      "execution_count": null,
      "outputs": []
    },
    {
      "cell_type": "code",
      "source": [
        "class Binary_Class_NET(nn.Module): # наследуемся от класса nn.Module\n",
        "    def __init__(self):\n",
        "        super(Binary_Class_NET, self).__init__()\n",
        "\n",
        "        # первый слой\n",
        "        self.fc1 = nn.Linear(30, 100)\n",
        "        self.fc2 = nn.Linear(100, 50)\n",
        "        self.fc3 = nn.Linear(50, 10)\n",
        "        self.fc4 = nn.Linear(10, 1)\n",
        "\n",
        "    def forward(self,x):\n",
        "        x = x.view(-1)\n",
        "        #print(x)\n",
        "        # добавляем первый скрытый слой с ReLU активацией\n",
        "        x = F.relu(self.fc1(x))\n",
        "        # добавляем второй скрытый слой с ReLU активацией\n",
        "        x = F.sigmoid(self.fc2(x))\n",
        "        #print(x)\n",
        "        # добавляем третий (выходной) слой\n",
        "        x = F.sigmoid(self.fc3(x))\n",
        "        x = F.sigmoid(self.fc4(x))\n",
        "        #print(x)\n",
        "        return x\n",
        "        #return F.log_softmax(x, dim=1)\n",
        "\n",
        "\n",
        "net = Binary_Class_NET()\n",
        "print(net)"
      ],
      "metadata": {
        "id": "4iv-9o6KhidT",
        "colab": {
          "base_uri": "https://localhost:8080/"
        },
        "outputId": "795ad898-51a7-4a99-a191-91a153c8868b"
      },
      "execution_count": null,
      "outputs": [
        {
          "output_type": "stream",
          "name": "stdout",
          "text": [
            "Binary_Class_NET(\n",
            "  (fc1): Linear(in_features=30, out_features=100, bias=True)\n",
            "  (fc2): Linear(in_features=100, out_features=50, bias=True)\n",
            "  (fc3): Linear(in_features=50, out_features=10, bias=True)\n",
            "  (fc4): Linear(in_features=10, out_features=1, bias=True)\n",
            ")\n"
          ]
        }
      ]
    },
    {
      "cell_type": "code",
      "source": [
        "import torch.optim as optim\n",
        "loss_function = nn.BCELoss()\n",
        "optimizer = optim.Adam(net.parameters(), lr=0.01)\n",
        "#optimizer = optim.SGD(net.parameters(),lr = 0.01)\n",
        "torch.manual_seed(200002)\n"
      ],
      "metadata": {
        "id": "SIi33pha8WTq",
        "colab": {
          "base_uri": "https://localhost:8080/"
        },
        "outputId": "620d4550-76ac-4174-df3b-465cb422fa57"
      },
      "execution_count": null,
      "outputs": [
        {
          "output_type": "execute_result",
          "data": {
            "text/plain": [
              "<torch._C.Generator at 0x798ecbd36310>"
            ]
          },
          "metadata": {},
          "execution_count": 60
        }
      ]
    },
    {
      "cell_type": "code",
      "source": [
        "list_loss = []\n",
        "for epoch in range(10): # три полных прохода по нашим данным\n",
        "    net.train() # обязательно переводим в режим обучения\n",
        "    for data in trainset:  # `data` это батч наших данных\n",
        "        X, y = data  # X это батч свойств, y это батч целевых переменных.\n",
        "        #print(X)\n",
        "        #print(y)\n",
        "        net.zero_grad()  # устанавливаем значение градиента в 0 перед вычислением функции потерь. Вам следует делать это на каждом шаге.\n",
        "        optimizer.zero_grad()\n",
        "        output = net(X)  # передаем выпрямленный батч\n",
        "\n",
        "        loss = loss_function(output, y.view(-1))  # вычисляем функцию потерь\n",
        "        loss.backward()  # передаем это значение назад по сети\n",
        "        optimizer.step()  # пытаемся оптимизировать значение весов исходя из потерь и градиента\n",
        "        #print(output)\n",
        "        #print(y.view(-1))\n",
        "        #print('loss', loss)  # выводим на экран значение функции потерь. Мы надеемся, что оно убывает!\n",
        "\n",
        "    print('loss', loss.item())  # выводим на экран значение функции потерь. Мы надеемся, что оно убывает!\n",
        "    list_loss.append(loss.item())\n",
        "print_roc_auc()\n",
        "\n",
        "plt.plot(list_loss)\n",
        "plt.show()\n"
      ],
      "metadata": {
        "colab": {
          "base_uri": "https://localhost:8080/",
          "height": 621
        },
        "id": "Ya4SQRHE8cIi",
        "outputId": "cb9beb3e-cd0a-4c89-b71e-7dc27abec543"
      },
      "execution_count": null,
      "outputs": [
        {
          "output_type": "stream",
          "name": "stdout",
          "text": [
            "loss 0.656765878200531\n",
            "loss 0.7554584741592407\n",
            "loss 1.0243545770645142\n",
            "loss 0.7178764343261719\n",
            "loss 0.5942178964614868\n",
            "loss 0.6747229695320129\n",
            "loss 0.640508234500885\n",
            "loss 0.6482784152030945\n",
            "loss 0.7027174234390259\n",
            "loss 0.6107978820800781\n",
            "TEST:  ROC-AUC -- 0.5153332079819493\n"
          ]
        },
        {
          "output_type": "display_data",
          "data": {
            "text/plain": [
              "<Figure size 640x480 with 1 Axes>"
            ],
            "image/png": "[encoded data removed]"
          },
          "metadata": {}
        }
      ]
    },
    {
      "cell_type": "code",
      "source": [],
      "metadata": {
        "id": "5LfqmDDK8b9q"
      },
      "execution_count": null,
      "outputs": []
    },
    {
      "cell_type": "code",
      "source": [
        "from sklearn.metrics import roc_auc_score\n",
        "\n",
        "def predict_bin_clas_net(tset=testset):\n",
        "  net.eval() # переводем модель в режим инференса\n",
        "  outputs = []\n",
        "  # показываем, что обученич нет и градиенты не обновляются\n",
        "  with torch.no_grad():\n",
        "    for data in tset:  # `data` это батч наших данных,\n",
        "          X = data[0]  # X это батч свойств, y это батч целевых переменных.\n",
        "          output = net(X).item()\n",
        "          outputs.append(output)\n",
        "  return outputs\n",
        "\n",
        "\n",
        "def print_roc_auc():\n",
        "  # Посмотрим  метрику  ROC-AUC\n",
        "  roc_auc = roc_auc_score(y_true=y_test, y_score=predict_bin_clas_net())\n",
        "  print(f\"TEST:  ROC-AUC -- {roc_auc}\")"
      ],
      "metadata": {
        "id": "-EqbMRmK8b6F"
      },
      "execution_count": null,
      "outputs": []
    },
    {
      "cell_type": "code",
      "source": [
        "print_roc_auc()"
      ],
      "metadata": {
        "id": "YAajYPln8b27",
        "colab": {
          "base_uri": "https://localhost:8080/"
        },
        "outputId": "94dea9f4-ff54-4e18-abe8-9769240e6f1b"
      },
      "execution_count": null,
      "outputs": [
        {
          "output_type": "stream",
          "name": "stdout",
          "text": [
            "TEST:  ROC-AUC -- 0.4867020851002545\n"
          ]
        }
      ]
    },
    {
      "cell_type": "code",
      "source": [
        "def save_array_to_submission(array, name='last_submission'):\n",
        "\n",
        "    assert len(array) == 2000, 'shape doesnt match'\n",
        "    print(array)\n",
        "\n",
        "    df_subm = pd.DataFrame(array, columns=[0])\n",
        "\n",
        "    df_subm.to_csv(f'{name}.csv', index=False, header=False)\n",
        "    return 'ok'"
      ],
      "metadata": {
        "id": "s9CxajsH8bwa"
      },
      "execution_count": null,
      "outputs": []
    },
    {
      "cell_type": "code",
      "source": [
        "test_data = pd.read_csv('test.csv', header=None)\n",
        "\n",
        "result_test_dataset = CSVDataset(x=test_data.values,\n",
        "                                 y=y_test.values)\n",
        "result_testset = torch.utils.data.DataLoader(result_test_dataset, batch_size=1, shuffle=False)\n",
        "\n",
        "predict = predict_bin_clas_net(result_testset)\n",
        "\n",
        "\n",
        "save_array_to_submission(predict, name='bc_net4')"
      ],
      "metadata": {
        "colab": {
          "base_uri": "https://localhost:8080/",
          "height": 73
        },
        "id": "nq6RZSUxiHsy",
        "outputId": "971e0905-4dba-4a5b-a20a-67cae01750eb"
      },
      "execution_count": null,
      "outputs": [
        {
          "output_type": "stream",
          "name": "stdout",
          "text": [
            "[0.9999996423721313, 0.9999996423721313, 0.9999996423721313, 0.9999996423721313, 0, 0.9999996423721313, 0, 0.9999996423721313, 0.9999996423721313, 0.9999996423721313, 0.9999996423721313, 0.9999996423721313, 0.9995322227478027, 0, 0, 0.9999996423721313, 0.9999996423721313, 0.9999996423721313, 0.9999996423721313, 0.0031979915220290422, 0.9999996423721313, 0.9999996423721313, 0, 0.9999996423721313, 0.9999996423721313, 0.9999996423721313, 0.029347846284508705, 0.9999996423721313, 0.9999996423721313, 0.9999996423721313, 0.9999996423721313, 0.9999996423721313, 0.9999996423721313, 0, 0.9999996423721313, 0.9999996423721313, 0.9999996423721313, 0.899090051651001, 0.9999996423721313, 0.9999996423721313, 0.9999996423721313, 0.9999996423721313, 0.999980092048645, 0.9999996423721313, 0.9999996423721313, 0.9999996423721313, 0.9999996423721313, 0.9999996423721313, 0, 0.9999996423721313, 0, 0.9993857145309448, 0.9999996423721313, 0, 0.9999996423721313, 0.9999996423721313, 0.9999996423721313, 0.9999996423721313, 0.9999996423721313, 0.9999996423721313, 0, 0.9999996423721313, 0.0022603559773415327, 0.9999996423721313, 0, 0, 0, 0.9999996423721313, 0.9999996423721313, 0.9999996423721313, 0.9999996423721313, 0.9999996423721313, 0.9999996423721313, 0.9999996423721313, 0.9999996423721313, 0.9999996423721313, 0.9999996423721313, 0, 0, 0.9999996423721313, 0.9999996423721313, 0.9999996423721313, 0.9999996423721313, 0, 0.9999996423721313, 0.9999996423721313, 0.9999996423721313, 0.9999996423721313, 0.9999996423721313, 0.9999996423721313, 0.9999996423721313, 0.999985933303833, 0, 0.9999996423721313, 0.9999996423721313, 0.9999996423721313, 0, 0.9999996423721313, 0, 0.9999996423721313, 0.9999996423721313, 0.9999996423721313, 0.9999996423721313, 0.9999996423721313, 0.9999996423721313, 0.9999996423721313, 0.9999996423721313, 0.9999996423721313, 0.9999996423721313, 0, 0.9999996423721313, 0.9999996423721313, 0.9999996423721313, 0, 0, 0.9999996423721313, 0.9999996423721313, 0.9999996423721313, 0.9999996423721313, 0.9999996423721313, 0.9999996423721313, 0.9999996423721313, 0.9999996423721313, 0.9999996423721313, 0.9999996423721313, 0, 0.9999996423721313, 0.9999996423721313, 0.9999996423721313, 0.9999996423721313, 0.9999996423721313, 0.9999996423721313, 0, 0, 0.9999996423721313, 0.9999996423721313, 0, 0.9999996423721313, 0.9999996423721313, 0, 0.9999996423721313, 0.01325225830078125, 0, 0.9999996423721313, 0.9999996423721313, 0.9999996423721313, 0.9999996423721313, 0.9999996423721313, 0.9999996423721313, 0.9999996423721313, 0.9999996423721313, 0.9999996423721313, 0.9999996423721313, 0.9999996423721313, 0.9999996423721313, 0.9999996423721313, 0, 0, 0.9999996423721313, 0.9999996423721313, 0.9999996423721313, 0.9999996423721313, 0, 0.9999996423721313, 0.9999996423721313, 0.9999996423721313, 0.9999996423721313, 0.9999996423721313, 0, 0.9999996423721313, 0, 0.9999996423721313, 0.9999996423721313, 0, 0.9999996423721313, 0.9999996423721313, 0.9999996423721313, 0.9999996423721313, 0.9999996423721313, 0, 0.9999996423721313, 0, 0.9999996423721313, 0.9999996423721313, 0, 0.9999996423721313, 0, 0.9999996423721313, 0.9999996423721313, 0.9999996423721313, 0.013198175467550755, 0, 0.9998100399971008, 0, 0.9999996423721313, 0.9999996423721313, 0, 0.9999996423721313, 0.9999996423721313, 0.9999996423721313, 0, 0.9999996423721313, 0.9999996423721313, 0.9999996423721313, 0.9999996423721313, 0.9999996423721313, 0.9999996423721313, 0.9999996423721313, 0.9999996423721313, 0.9999996423721313, 0, 0.9999996423721313, 0.9999996423721313, 0.0005466642323881388, 0.9999996423721313, 0, 0.9999996423721313, 0, 0.9999996423721313, 0, 0.9999996423721313, 0, 0, 0.9999996423721313, 0.9999996423721313, 0.9999996423721313, 0.001659864210523665, 0.9999996423721313, 0.9999996423721313, 0.9999996423721313, 0.9999831914901733, 0.9999996423721313, 0.9999996423721313, 0.9999996423721313, 0.9999996423721313, 0.9999996423721313, 0.9999996423721313, 0.9999996423721313, 0.9999996423721313, 0.9999996423721313, 0, 0.9638028144836426, 0.9999996423721313, 0.9999996423721313, 0.9999996423721313, 0.9999996423721313, 0.9999996423721313, 0, 0.9999996423721313, 0.9999996423721313, 0, 0.9999996423721313, 0, 0.9999996423721313, 0.9999996423721313, 0.9999996423721313, 0, 0.9999996423721313, 0.9999996423721313, 0.9999996423721313, 0.9999996423721313, 0, 0.9999996423721313, 0.9999996423721313, 0.9999996423721313, 0.9999996423721313, 0.9999996423721313, 0.9999996423721313, 0.9999996423721313, 0.9999996423721313, 0.9999996423721313, 0.9999996423721313, 0.9999996423721313, 0.9999996423721313, 0.9999996423721313, 0.9999996423721313, 0.9999996423721313, 0.9999996423721313, 0.9999996423721313, 0.9999996423721313, 0.9999996423721313, 0.9999996423721313, 0.9999996423721313, 0.9999996423721313, 0.9999996423721313, 0.9999996423721313, 0.9999996423721313, 0.9999996423721313, 0, 0.9999996423721313, 0.12063157558441162, 0.9999996423721313, 0.9999996423721313, 0.9999996423721313, 0.9999996423721313, 0.9999996423721313, 0.9999996423721313, 0.9999996423721313, 0.9999996423721313, 0.9999996423721313, 0.9999996423721313, 0.9999996423721313, 0.01544386986643076, 0.9999996423721313, 0.9999996423721313, 0.9999996423721313, 0, 0.9999996423721313, 0, 0.9999996423721313, 0.9999996423721313, 0.9999996423721313, 0.9999996423721313, 0.9999996423721313, 0.9999996423721313, 0.9999996423721313, 0.9999996423721313, 0.9999996423721313, 0.9999996423721313, 0.9999996423721313, 0.9999996423721313, 0.9999996423721313, 0.9999996423721313, 0.9999996423721313, 0.9999996423721313, 0, 0.9999996423721313, 0, 0.9999996423721313, 0.9999996423721313, 0.9999996423721313, 0.9999996423721313, 0.9999996423721313, 0, 0, 0.9999996423721313, 0.9999996423721313, 0.9999996423721313, 0.9999996423721313, 0.9999996423721313, 0.9999996423721313, 0.9999996423721313, 0.9999996423721313, 0.9999996423721313, 0.9999996423721313, 0.9999996423721313, 0.9999996423721313, 0.9999996423721313, 0.9999996423721313, 0.9999996423721313, 0.9999996423721313, 0.9999996423721313, 0.9999996423721313, 0.9999996423721313, 0.9999996423721313, 0.9999996423721313, 0, 0.9999996423721313, 0, 0.9999996423721313, 0.9999996423721313, 0.9999996423721313, 0.9999996423721313, 0, 0.9999996423721313, 0.9999996423721313, 0.9999996423721313, 0, 0.9999996423721313, 0, 0.9999996423721313, 0.9999996423721313, 0, 0.9999996423721313, 0.9999996423721313, 0.9999996423721313, 0.9999996423721313, 0, 0.9999996423721313, 0.9999996423721313, 0, 0.9999996423721313, 0, 0.9999996423721313, 0.9999996423721313, 0.9999996423721313, 0, 0.9999996423721313, 0.9999996423721313, 0, 0, 0.9999996423721313, 0.9999996423721313, 0.9999996423721313, 0.9999996423721313, 0.9999996423721313, 0.9999996423721313, 0.9999996423721313, 0.9999996423721313, 0.9999996423721313, 0.9999996423721313, 0, 0.9999996423721313, 0.9999996423721313, 0, 0.9999996423721313, 0.9999996423721313, 0.9999996423721313, 0.9999996423721313, 0.9999996423721313, 0.9999996423721313, 0.9999996423721313, 0.9999845027923584, 0.9999996423721313, 0.9999996423721313, 0, 0.9999996423721313, 0.9999996423721313, 0.9999996423721313, 0.9999996423721313, 0, 0.9999996423721313, 0, 0, 0.9999996423721313, 0, 0.9999996423721313, 0.9999996423721313, 0.9999996423721313, 0.9999996423721313, 0, 0.9999996423721313, 0.9999996423721313, 0, 0.9999915361404419, 0.9999996423721313, 0.9999996423721313, 0.9999996423721313, 0.9999996423721313, 0.9999996423721313, 0.9999996423721313, 0, 0, 0.9999996423721313, 0.9999996423721313, 0.9999996423721313, 0.9999996423721313, 0.9999996423721313, 0.9999996423721313, 0, 0, 0.00034591558505780995, 0.9999996423721313, 0.9999996423721313, 0.9999996423721313, 0.9999996423721313, 0.9999996423721313, 0.9999996423721313, 0.9999996423721313, 0.9999996423721313, 0, 0.9999996423721313, 0.9999996423721313, 0.10708951950073242, 0.07495737820863724, 0.9999996423721313, 0.03560156375169754, 0, 0.9999996423721313, 0.9999996423721313, 0.9999996423721313, 0, 0, 0.9999996423721313, 0, 0.9999996423721313, 0.9999996423721313, 0.9999996423721313, 0.9999996423721313, 0.9999996423721313, 0, 0.9999996423721313, 0.9999996423721313, 0.9999996423721313, 0.9999996423721313, 0, 0.9999996423721313, 0.9999996423721313, 0.9999996423721313, 0.9999996423721313, 0.9999996423721313, 0.9999996423721313, 0.9999996423721313, 0.9999996423721313, 0.9999996423721313, 0, 0, 0.9999996423721313, 0.00812766794115305, 0.9999996423721313, 0.9999996423721313, 0.9999996423721313, 0.9999996423721313, 0, 0.9999996423721313, 0.9999996423721313, 0.9728058576583862, 0.9999996423721313, 0.9999996423721313, 0.9999996423721313, 0, 0.9999996423721313, 0.9999996423721313, 0.9999996423721313, 0.9999996423721313, 0.9999996423721313, 0.9999996423721313, 0.9999996423721313, 0.9999996423721313, 0.9999996423721313, 0.9999996423721313, 0.9999996423721313, 0, 0.9999996423721313, 0.9999996423721313, 0.9999996423721313, 0.9999979734420776, 0, 0.9999996423721313, 0, 0.9999996423721313, 0.9999996423721313, 0.9999996423721313, 0.9999996423721313, 0.9999996423721313, 0.9999996423721313, 0.9999996423721313, 0.9999996423721313, 0.9999996423721313, 0.9999996423721313, 0.9999996423721313, 0, 0.9999996423721313, 0.9999996423721313, 0.9999996423721313, 0.9999996423721313, 0.9999996423721313, 0.9999996423721313, 0.9999979734420776, 0.9999996423721313, 0.9999996423721313, 0.9999996423721313, 0.9999996423721313, 0, 0.9999996423721313, 0.9999996423721313, 0.9999996423721313, 0.9999996423721313, 0.9999996423721313, 0.9999996423721313, 0.9999996423721313, 0, 0.9999996423721313, 0.9999996423721313, 0.9999996423721313, 0.9999996423721313, 0.9999996423721313, 0.9999996423721313, 0.9999996423721313, 0.9999996423721313, 0, 0, 0.9999996423721313, 0, 0, 0.9999996423721313, 0.9999996423721313, 0.9999996423721313, 0.9999996423721313, 0.9999996423721313, 0.9999996423721313, 0.9999996423721313, 0.9999996423721313, 0.9999996423721313, 0.9999996423721313, 0.9999996423721313, 0.9999996423721313, 0.9999996423721313, 0.9999996423721313, 0.9999996423721313, 0.9999996423721313, 0.9999996423721313, 0.9999996423721313, 0.9999996423721313, 0.7860054969787598, 0.9999996423721313, 0.9999996423721313, 0.9999996423721313, 0.9999996423721313, 0.9999996423721313, 0.9999996423721313, 0.9999996423721313, 0.9999996423721313, 0.9999996423721313, 0.9999996423721313, 0.9999996423721313, 0.9999996423721313, 0, 0.9999996423721313, 0.9999996423721313, 0.9999996423721313, 0.9999996423721313, 0.9999996423721313, 0.9999996423721313, 0.9999996423721313, 0.9999996423721313, 0.9999996423721313, 0.9999996423721313, 0, 0.9999996423721313, 0.9999996423721313, 0.9999996423721313, 0.9999996423721313, 0.9999996423721313, 0.9999996423721313, 0, 0, 0.9999996423721313, 0.9999996423721313, 0.9999996423721313, 0.9999996423721313, 0.9999996423721313, 0.9987351298332214, 0.9999996423721313, 0.9999996423721313, 0.9999996423721313, 0.9999996423721313, 0.9999996423721313, 0.9999996423721313, 0.9999996423721313, 0.9999996423721313, 0, 0, 0.9999996423721313, 0, 0.9999996423721313, 0.9999996423721313, 0, 0.9999996423721313, 0.9999996423721313, 0, 0.9999996423721313, 0, 0, 0.9999996423721313, 0, 0.9999996423721313, 0.9999996423721313, 0, 0.9999996423721313, 0.9999996423721313, 0.9999996423721313, 0.9999996423721313, 0, 0.9999996423721313, 0.9999996423721313, 0, 0.9999996423721313, 0.9999996423721313, 0.9999996423721313, 0.9999996423721313, 0, 0.9999996423721313, 0.9999996423721313, 0.9999996423721313, 0.9999996423721313, 0.9999996423721313, 0.9999996423721313, 0.9999996423721313, 0.9999996423721313, 0.9999996423721313, 0.9999996423721313, 0.999984622001648, 0.9999996423721313, 0.9999996423721313, 0.9999996423721313, 0, 0.9999996423721313, 0.9999996423721313, 0.9999996423721313, 0.9999996423721313, 0, 0.9999996423721313, 0.9999996423721313, 0.9999996423721313, 0.9999996423721313, 0.9999996423721313, 0.9999996423721313, 0.9999996423721313, 0.9999996423721313, 0.9999996423721313, 0.9999996423721313, 0.9999996423721313, 0.0022621266543865204, 0.9999996423721313, 0.9999996423721313, 0, 0.9999996423721313, 0.9999996423721313, 0.9999996423721313, 0.9999996423721313, 0.9999996423721313, 0.9999996423721313, 0.9999996423721313, 0, 0, 0.999998927116394, 0.9999996423721313, 0.9999996423721313, 0.9999996423721313, 0, 0.9999996423721313, 0, 0, 0.9999996423721313, 0.9999996423721313, 0.9999996423721313, 0, 0.9999996423721313, 0.9999996423721313, 0, 0.9999996423721313, 0.9999996423721313, 0.9999996423721313, 0.9999996423721313, 0.9999996423721313, 0.9999996423721313, 0.9999996423721313, 0.9999996423721313, 0.9999996423721313, 0.9999996423721313, 0, 0.9999996423721313, 0.9998548030853271, 0.9999996423721313, 0, 0.9999996423721313, 0.9999996423721313, 0, 0.9999996423721313, 0.9999996423721313, 0.9999996423721313, 0.9999996423721313, 0.9999996423721313, 0.9999996423721313, 0, 0.9999996423721313, 0.0015688122948631644, 0.9999996423721313, 0.9999996423721313, 0.9999996423721313, 0.9999996423721313, 0.9999996423721313, 0, 0.9999996423721313, 0.9999996423721313, 0.9999996423721313, 0, 0.9999996423721313, 0, 0, 0.9999996423721313, 0.9999996423721313, 0.9999996423721313, 0, 0, 0.9999996423721313, 0.9999996423721313, 0.9999996423721313, 0, 0.9999996423721313, 0.9999996423721313, 0.9999996423721313, 0.9999996423721313, 0.9999996423721313, 0.9999996423721313, 0.9999996423721313, 0.9999996423721313, 0.9999996423721313, 0.9999996423721313, 0.9999996423721313, 0.9999996423721313, 0.9999996423721313, 0.9999996423721313, 0.9999996423721313, 0.9999996423721313, 0.9999996423721313, 0, 0.9999996423721313, 0.9999996423721313, 0.9999996423721313, 0.9999996423721313, 0.9999996423721313, 0.9997350573539734, 0.9999996423721313, 0.9999996423721313, 0.9999996423721313, 0.9999996423721313, 0.9999996423721313, 0.9999996423721313, 0.9999996423721313, 0, 0.9999996423721313, 0.9999996423721313, 0.9999996423721313, 0.9999996423721313, 0.9999996423721313, 0, 0.9999996423721313, 0, 0.9999996423721313, 0.9999996423721313, 0.9999996423721313, 0.9999996423721313, 0, 0.9999996423721313, 0.9999996423721313, 0.9999996423721313, 0.9999996423721313, 0, 0.9999996423721313, 0, 0.9999996423721313, 0.9999996423721313, 0, 0.9999996423721313, 0.9999996423721313, 0.9999996423721313, 0.9999996423721313, 0.9999996423721313, 0, 0.9999996423721313, 0.9999996423721313, 0.9999996423721313, 0, 0.9999996423721313, 0.9999996423721313, 0.9999996423721313, 0.9999996423721313, 0.9999996423721313, 0.9999996423721313, 0.9999996423721313, 0.9999996423721313, 0.9999996423721313, 0, 0.9999996423721313, 0.9999996423721313, 0.9999996423721313, 0.9999996423721313, 0.9999996423721313, 0.9999996423721313, 0.9999996423721313, 0.9999996423721313, 0, 0.9999996423721313, 0.9999996423721313, 0.9999996423721313, 0.9999996423721313, 0.9999996423721313, 0.9999996423721313, 0.9999996423721313, 0.9999996423721313, 0.9999996423721313, 0, 0, 0.9999996423721313, 0.9999996423721313, 0.9999996423721313, 0.9999996423721313, 0.9999996423721313, 0.9999996423721313, 0.9999996423721313, 0.9999996423721313, 0.9999996423721313, 0.9999996423721313, 0.9999996423721313, 0.9999996423721313, 0.9999996423721313, 0, 0.9998819828033447, 0.9939848780632019, 0.9999996423721313, 0, 0.9999996423721313, 0.9999996423721313, 0.9999996423721313, 0.9999996423721313, 0.9999996423721313, 0.9999996423721313, 0.9999996423721313, 0.9999996423721313, 0, 0, 0, 0.9999996423721313, 0.9999996423721313, 0.9999996423721313, 0.9999996423721313, 0.9999996423721313, 0.9999996423721313, 0.9999996423721313, 0.9999996423721313, 0.9999996423721313, 0.9999996423721313, 0.9999996423721313, 0.9999996423721313, 0.9999996423721313, 0.9999996423721313, 0.9999996423721313, 0.9999996423721313, 0.9999996423721313, 0.9999996423721313, 0.9999996423721313, 0.9999996423721313, 0.9999996423721313, 0.9999996423721313, 0.986506462097168, 0.9999996423721313, 0, 0.9999996423721313, 0, 0.9999996423721313, 0, 0.9999996423721313, 0.9999996423721313, 0.9999996423721313, 0.9989847540855408, 0.9999996423721313, 0.9999996423721313, 0.9999996423721313, 0.9999996423721313, 0, 0.9999996423721313, 0.9999996423721313, 0.9999996423721313, 0.9999996423721313, 0.9999996423721313, 0.9999996423721313, 0.9999996423721313, 0.9999996423721313, 0.9999996423721313, 0.9999996423721313, 0.9999996423721313, 0.9999996423721313, 0.9999996423721313, 0.9999996423721313, 0.0008686135406605899, 0.9999996423721313, 0.9999996423721313, 0.9999996423721313, 0.9999996423721313, 0.9999996423721313, 0.9999996423721313, 0.9999996423721313, 0, 0.9999996423721313, 0.9999996423721313, 0, 0.9999996423721313, 0, 0, 0.9999996423721313, 0, 0.9999996423721313, 0.9999996423721313, 0.9999996423721313, 0.9999996423721313, 0.9999996423721313, 0.9999996423721313, 0, 0, 0.9999996423721313, 0.9999996423721313, 0, 0, 0.9999996423721313, 0.9999996423721313, 0.9999996423721313, 0.9999996423721313, 0.9999996423721313, 0.9999996423721313, 0, 0.9999996423721313, 0, 0.9999996423721313, 0.9999996423721313, 0.9999996423721313, 0.9999996423721313, 0.9999996423721313, 0.9999996423721313, 0.9999996423721313, 0.9999996423721313, 0.9999996423721313, 0.9999996423721313, 0.9999996423721313, 0.9999996423721313, 0.9999996423721313, 0.9999996423721313, 0.9999996423721313, 0.9999996423721313, 0.9999996423721313, 0.9999996423721313, 0.9999996423721313, 0.9999996423721313, 0.9999996423721313, 0, 0.9999996423721313, 0.9999996423721313, 0.9999996423721313, 0.9999841451644897, 0.9999996423721313, 0.9999996423721313, 0.9999996423721313, 0.9999996423721313, 0.9999996423721313, 0.9999996423721313, 0.9999996423721313, 0.0005070023471489549, 0.9999996423721313, 0.9999996423721313, 0.9999996423721313, 0, 0.9999996423721313, 0.9999996423721313, 0.9999996423721313, 0.9999996423721313, 0.9999996423721313, 0.06492143124341965, 0.9999996423721313, 0.9999996423721313, 0, 0.9999996423721313, 0.9999996423721313, 0.9999996423721313, 0.9999996423721313, 0.9999996423721313, 0, 0.0038444409146904945, 0, 0, 0.9999996423721313, 0.9999996423721313, 0.9999996423721313, 0.9999996423721313, 0.9999996423721313, 0.9999996423721313, 0.9999996423721313, 0.9999996423721313, 0.9999996423721313, 0.9999996423721313, 0.9999868869781494, 0.9999996423721313, 0.9999996423721313, 0.9999996423721313, 0.9999996423721313, 0, 0.9999996423721313, 0.9999996423721313, 0.9999996423721313, 0.9999996423721313, 0.9999996423721313, 0.9999996423721313, 0.9999996423721313, 0, 0.9999996423721313, 0.9999996423721313, 0, 0, 0, 0.9999996423721313, 0.9999996423721313, 0.9999996423721313, 0.9999996423721313, 0.9999996423721313, 0.9999996423721313, 0.9971939325332642, 0.9999996423721313, 0.9999996423721313, 0.9999996423721313, 0.9999996423721313, 0.9999996423721313, 0.9999996423721313, 0.9999996423721313, 0, 0, 0.9999996423721313, 0.9999996423721313, 0.9999996423721313, 0.9999996423721313, 0.9999996423721313, 0.9999996423721313, 0.9999996423721313, 0.07621942460536957, 0, 0.9999996423721313, 0, 0.9999996423721313, 0.9999996423721313, 0, 0, 0.9999996423721313, 0, 0.9999996423721313, 0.9999996423721313, 0.9999996423721313, 0.9999996423721313, 0, 0, 0.9999996423721313, 0.9999996423721313, 0.9999996423721313, 0.9999996423721313, 0, 0.9999996423721313, 0.9999996423721313, 0.9999996423721313, 0.9999996423721313, 0.9999996423721313, 0.9999996423721313, 0.9999996423721313, 0, 0.9999996423721313, 0.9999996423721313, 0.9999996423721313, 0.9999996423721313, 0.9999996423721313, 0.9999996423721313, 0.9999996423721313, 0.9999996423721313, 0.9999996423721313, 0.9999996423721313, 0.9999996423721313, 0.9999996423721313, 0, 0.9999996423721313, 0.9999996423721313, 0.9999996423721313, 0, 0.9999996423721313, 0, 0.9999996423721313, 0.9999996423721313, 0.9999996423721313, 0.9999996423721313, 0.9999996423721313, 0, 0.9999996423721313, 0.9999996423721313, 0.9999996423721313, 0.9999996423721313, 0.9999996423721313, 0.9999996423721313, 0.9999996423721313, 0.9999996423721313, 0.9999996423721313, 0.9999996423721313, 0.9999996423721313, 0.9999996423721313, 0.9999996423721313, 0.9999996423721313, 0.9999996423721313, 0.9999996423721313, 0.9999996423721313, 0.9999996423721313, 0.9999996423721313, 0.9999996423721313, 0.9999996423721313, 0, 0.9999996423721313, 0, 0.9999996423721313, 0.9999996423721313, 0.9999996423721313, 0.9999996423721313, 0.9999996423721313, 0.9999996423721313, 0.9999996423721313, 0.9999996423721313, 0, 0.9999996423721313, 0.9999996423721313, 0.9999996423721313, 0, 0.9999996423721313, 0, 0.9999996423721313, 0.9999996423721313, 0.9999996423721313, 0.9999996423721313, 0.9999996423721313, 0.9999996423721313, 0.9999996423721313, 0.9999996423721313, 0.9999996423721313, 0.9999996423721313, 0, 0, 0.9999996423721313, 0.9999996423721313, 0.9999996423721313, 0.9999996423721313, 0.9999996423721313, 0, 0.9999996423721313, 0.9999996423721313, 0.9999996423721313, 0.9999996423721313, 0.4628164768218994, 0.9999996423721313, 0.9999996423721313, 0.9999996423721313, 0.9999996423721313, 0.9999996423721313, 0.9999996423721313, 0, 0.9999996423721313, 0.9999996423721313, 0.9999996423721313, 0.9999996423721313, 0, 0.9999996423721313, 0.9999996423721313, 0.9999996423721313, 0.9999996423721313, 0, 0.9999996423721313, 0.9999996423721313, 0.011407203041017056, 0.9999996423721313, 0.9999996423721313, 0, 0.9999996423721313, 0.9999996423721313, 0.9999996423721313, 0.9999996423721313, 0.9999996423721313, 0.9999996423721313, 0.9999996423721313, 0.9999996423721313, 0.9999996423721313, 0, 0.9999996423721313, 0.9999996423721313, 0.9999996423721313, 0.9999996423721313, 0.9999996423721313, 0, 0.9999996423721313, 0.9999996423721313, 0, 0, 0.9999996423721313, 0.9999996423721313, 0.9999996423721313, 0.9999996423721313, 0.999903678894043, 0, 0, 0, 0.9999996423721313, 0.9999996423721313, 0.9999996423721313, 0.9999996423721313, 0.9999996423721313, 0.9999996423721313, 0.9999996423721313, 0.9999996423721313, 0.9999996423721313, 0.9999996423721313, 0.9999996423721313, 0.7083411812782288, 0.9999996423721313, 0.9999996423721313, 0.9999996423721313, 0.9999996423721313, 0.9999996423721313, 0.9999996423721313, 0.9999996423721313, 0.9999996423721313, 0.9999996423721313, 0.9999996423721313, 0.9999996423721313, 0.9999996423721313, 0.9999996423721313, 0.9999996423721313, 0.9999996423721313, 0.9999996423721313, 0.9999996423721313, 0.9999996423721313, 0.9999996423721313, 0.9999996423721313, 0.9999996423721313, 0.9999996423721313, 0.9999996423721313, 0.9999996423721313, 0.9999996423721313, 0.9999996423721313, 0.9999996423721313, 0.9999996423721313, 0.9999996423721313, 0, 0, 0.9999996423721313, 0.9999996423721313, 0.9999996423721313, 0.9999996423721313, 0.9999996423721313, 0, 0.9999996423721313, 0.9999996423721313, 0, 0.9999996423721313, 0.9999996423721313, 0.9999996423721313, 0.9999996423721313, 0, 0, 0.9999996423721313, 0.9999996423721313, 0.9999996423721313, 0, 0.0028897554147988558, 0.9999996423721313, 0.9999996423721313, 0.9999996423721313, 0.9999996423721313, 0.9999996423721313, 0.9999996423721313, 0.9999563694000244, 0.9999996423721313, 0.9999996423721313, 0.9999996423721313, 0, 0.9999996423721313, 0, 0.9999996423721313, 0.9999996423721313, 0.9999996423721313, 0.9999996423721313, 0, 0.9999996423721313, 0.9999996423721313, 0.9999568462371826, 0.9999996423721313, 0, 0.01215793751180172, 0, 0.9999996423721313, 0.9999996423721313, 0, 0, 0.9999996423721313, 0.9999996423721313, 0.9999996423721313, 0.9999996423721313, 0.9999996423721313, 0.9999996423721313, 0.9999996423721313, 0.9999996423721313, 0, 0, 0.9999996423721313, 0, 0.9999996423721313, 0.9999996423721313, 0.9999996423721313, 0, 0.9999996423721313, 0.9999996423721313, 0.9999996423721313, 0, 0.9999996423721313, 0.9999996423721313, 0, 0.9999996423721313, 0, 0.9999996423721313, 0.9999996423721313, 0.9999996423721313, 0.9999996423721313, 0.9999996423721313, 0.9999996423721313, 0.9999996423721313, 0.9999996423721313, 0.9999996423721313, 0.9999996423721313, 0.9999996423721313, 0.9999996423721313, 0.9999996423721313, 0.9999996423721313, 0.9999996423721313, 0.9999996423721313, 0.9999996423721313, 0.9999996423721313, 0, 0.9999996423721313, 0, 0.9999996423721313, 0, 0.9999996423721313, 0.9999996423721313, 0, 0.9999996423721313, 0.9999996423721313, 0, 0.9999996423721313, 0.9999996423721313, 0.9999996423721313, 0.9999996423721313, 0, 0.9999996423721313, 0.9999996423721313, 0.9999996423721313, 0.9999996423721313, 0.9999996423721313, 0.9963011741638184, 0, 0.9999996423721313, 0.9999996423721313, 0, 0.9999996423721313, 0.9999996423721313, 0.9999996423721313, 0.9999996423721313, 0.9999996423721313, 0.9999996423721313, 0.9999996423721313, 0.9999996423721313, 0.9999996423721313, 0.9999996423721313, 0.9999996423721313, 0.9999996423721313, 0.9999996423721313, 0.9999996423721313, 0, 0.9999996423721313, 0.9999996423721313, 0.9999996423721313, 0.9999996423721313, 0.9999996423721313, 0.9999996423721313, 0.9999996423721313, 0.9999996423721313, 0.9999996423721313, 0.9999996423721313, 0.9999996423721313, 0.9999996423721313, 0.9999996423721313, 0, 0.9999996423721313, 0.9999996423721313, 0.9999996423721313, 0.9999996423721313, 0.9999996423721313, 0.9999996423721313, 0.9999996423721313, 0.9999996423721313, 0.9999996423721313, 0, 0.9999996423721313, 0, 0.9999996423721313, 0, 0.9999996423721313, 0.9999996423721313, 0.9999996423721313, 0, 0.9999996423721313, 0.9999996423721313, 0.9999979734420776, 0.9999996423721313, 0.9999996423721313, 0.9999996423721313, 0.9999996423721313, 0.9999996423721313, 0.9999996423721313, 0.9999996423721313, 0.9999996423721313, 0.9999996423721313, 0, 0, 0.9999996423721313, 0.9999996423721313, 0.9999996423721313, 0, 0, 0, 0.9999996423721313, 0.9999996423721313, 0, 0.9999996423721313, 0.9999853372573853, 0.9999996423721313, 0.9999996423721313, 0.9999996423721313, 0.9999996423721313, 0.9999996423721313, 0, 0.9999996423721313, 0.9999996423721313, 0.9999996423721313, 0, 0.9999996423721313, 0.9999996423721313, 0.9999996423721313, 0.9999996423721313, 0.10671944171190262, 0.9999996423721313, 0.9999996423721313, 0.9999996423721313, 0.9999996423721313, 0.9999996423721313, 0.9999996423721313, 0.9999996423721313, 0.9999996423721313, 0.9999996423721313, 0.9999996423721313, 0.9999996423721313, 0.9999996423721313, 0, 0.9999996423721313, 0, 0.9999996423721313, 0.9999996423721313, 0.9999996423721313, 0, 0.9999996423721313, 0.9999996423721313, 0, 0.9999996423721313, 0.9999996423721313, 0.9999996423721313, 0.9999996423721313, 0.9999996423721313, 0.9999996423721313, 0.9999996423721313, 0.9999996423721313, 0, 0.9999996423721313, 0.9999996423721313, 0.9999996423721313, 0.9999996423721313, 0.9999996423721313, 0.9999996423721313, 0.9999996423721313, 0.9999996423721313, 0.9999996423721313, 0.9999996423721313, 0, 0.9999996423721313, 0.9999996423721313, 0.9999996423721313, 0, 0.9999996423721313, 0.9999996423721313, 0.9999996423721313, 0.9999996423721313, 0, 0.9999996423721313, 0.9999996423721313, 0.9999996423721313, 0.9999996423721313, 0.9999996423721313, 0.9999996423721313, 0.9999996423721313, 0.9999996423721313, 0, 0.9999996423721313, 0.9999996423721313, 0.9999996423721313, 0.9999996423721313, 0.9999979734420776, 0.9999996423721313, 0.9999996423721313, 0.9999996423721313, 0, 0.9999996423721313, 0.9999996423721313, 0, 0, 0.9999996423721313, 0.9999996423721313, 0.9999996423721313, 0, 0.9999996423721313, 0, 0.9999996423721313, 0.9999996423721313, 0, 0, 0.9999996423721313, 0.9999996423721313, 0.9999996423721313, 0.9999996423721313, 0, 0, 0.7595950961112976, 0, 0.9999996423721313, 0.9999996423721313, 0.9999996423721313, 0.9999996423721313, 0.9999996423721313, 0.9999996423721313, 0.9999996423721313, 0.9999996423721313, 0.9999996423721313, 0.9999996423721313, 0.9999996423721313, 0, 0.9999996423721313, 0.9999996423721313, 0.9999996423721313, 0.9999996423721313, 0.9999996423721313, 0.9999996423721313, 0.9999996423721313, 0.0003379251284059137, 0.9999996423721313, 0.9999996423721313, 0.9999996423721313, 0.9999996423721313, 0.9999996423721313, 0.9999996423721313, 0.9999996423721313, 0.9999996423721313, 0.9999996423721313, 0.9999996423721313, 0.9999996423721313, 0.9999996423721313, 0.9999996423721313, 0.9999996423721313, 0.9999996423721313, 0.9999996423721313, 0.9999996423721313, 0.9999996423721313, 0.9999996423721313, 0.9999996423721313, 0.9999996423721313, 0.9999996423721313, 0.9999996423721313, 0, 0.9999996423721313, 0.9999996423721313, 0.9999996423721313, 0.9999996423721313, 0.9999996423721313, 0, 0.9999996423721313, 0.9999996423721313, 0.9999996423721313, 0.9999996423721313, 0.9999996423721313, 0.9999996423721313, 0.9999996423721313, 0.9999996423721313, 0.9999996423721313, 0.9999996423721313, 0.9999996423721313, 0.9999996423721313, 0.9999996423721313, 0.9999996423721313, 0.9999996423721313, 0.9999996423721313, 0, 0.9999996423721313, 0.9999996423721313, 0, 0.9999996423721313, 0.9999996423721313, 0.9942381381988525, 0.9999996423721313, 0.9999996423721313, 0.9999996423721313, 0.9999996423721313, 0.9999996423721313, 0.9999996423721313, 0.9999996423721313, 0, 0.9999996423721313, 0.9999996423721313, 0.9999996423721313, 0.9999996423721313, 0.9999996423721313, 0, 0.9999996423721313, 0.9999996423721313, 0.9999996423721313, 0, 0.9999996423721313, 0.9999996423721313, 0.9999996423721313, 0.9999996423721313, 0.9999996423721313, 0.9999974966049194, 0, 0.9999996423721313, 0.9999996423721313, 0.9999996423721313, 0.9999996423721313, 0.0020336678717285395, 0.9999996423721313, 0.9999996423721313, 0.9999996423721313, 0.9999996423721313, 0.9999996423721313, 0, 0, 0.9999996423721313, 0.9999996423721313, 0.9999996423721313, 0.9999996423721313, 0.9999996423721313, 0.9999996423721313, 0.9999996423721313, 0.9999996423721313, 0.9999996423721313, 0, 0.9999996423721313, 0.9999089241027832, 0.9999996423721313, 0.9829582571983337, 0.9999996423721313, 0, 0.9919702410697937, 0.9999996423721313, 0.9999996423721313, 0.9999996423721313, 0.9999996423721313, 0.9999858140945435, 0.9999996423721313, 0.9999996423721313, 0, 0.9999996423721313, 0.9999996423721313, 0.9999996423721313, 0.9999996423721313, 0.9999996423721313, 0.9999996423721313, 0.9999996423721313, 0.9999996423721313, 0.9999996423721313, 0.9999996423721313, 0.9999996423721313, 0.9999996423721313, 0.9999996423721313, 0.2464621365070343, 0.9999996423721313, 0.9999996423721313, 0.9999996423721313, 0.9999996423721313, 0.9999996423721313, 0.9999996423721313, 0, 0.9999996423721313, 0, 0.9999996423721313, 0.9999996423721313, 0.9999996423721313, 0.9999996423721313, 0.9999996423721313, 0, 0.9999996423721313, 0.9999996423721313, 0.9999996423721313, 0.9999996423721313, 0.9999996423721313, 0.9999996423721313, 0.9999996423721313, 0, 0.9999996423721313, 0.9999996423721313, 0.9999996423721313, 0.9999996423721313, 0.9999996423721313, 0.9999996423721313, 0.9999996423721313, 0.9999996423721313, 0.9999996423721313, 0.9999996423721313, 0, 0.9999996423721313, 0.9999996423721313, 0.9999996423721313, 0, 0.9999996423721313, 0.9999996423721313, 0, 0, 0.9999996423721313, 0.9999996423721313, 0.9999996423721313, 0, 0.9999996423721313, 0.9999996423721313, 0.9999996423721313, 0.9999996423721313, 0.9999996423721313, 0.9999996423721313, 0.9999996423721313, 0.9999996423721313, 0.9999996423721313, 0.9999996423721313, 0.9999996423721313, 0, 0.9999996423721313, 0.9999996423721313, 0.9999996423721313, 0, 0, 0.9999996423721313, 0.9999996423721313, 0, 0.9999980926513672, 0.0002901716507039964, 0.9999996423721313, 0, 0, 0, 0.9999996423721313, 0.9999996423721313, 0.9999996423721313, 0.9999996423721313, 0.9883565306663513, 0.9999996423721313, 0, 0, 0.9999996423721313, 0.9999996423721313, 0.9999996423721313, 0.9999996423721313, 0.9999996423721313, 0.9999996423721313, 0, 0.9999996423721313, 0.9999996423721313, 0.2642657458782196, 0.9999996423721313, 0.9999996423721313, 0.9999996423721313, 0.9999996423721313, 0, 0.9999996423721313, 0, 0.9999996423721313, 0.9999996423721313, 0.9999996423721313, 0.9999996423721313, 0.9999996423721313, 0.9999996423721313, 0.9999996423721313, 0, 0.9999996423721313, 0, 0.9999996423721313, 0.9999996423721313, 0.9999996423721313, 0.9999996423721313, 0.9999996423721313, 0.9999996423721313, 0.9999996423721313, 0.9999996423721313, 0.9999996423721313, 0.9999996423721313, 0.9999996423721313, 0.9999996423721313, 0.9999996423721313, 0.9999996423721313, 0, 0, 0.9978857636451721, 0.9999996423721313, 0.9999996423721313, 0.9999996423721313, 0.9999996423721313, 0.9999996423721313, 0, 0.9999996423721313, 0.9999996423721313, 0.9999996423721313, 0, 0.9999996423721313, 0.9999996423721313, 0.3173888921737671, 0.9999996423721313, 0.9999996423721313, 0.9999996423721313, 0, 0.9999996423721313, 0.9999996423721313, 0.9999996423721313, 0.9999996423721313, 0.9999996423721313, 0, 0.9999996423721313, 0.9984434247016907, 0.9999996423721313, 0.9999996423721313, 0, 0.9999996423721313, 0, 0.9999996423721313, 0.9999996423721313, 0.9999996423721313, 0.9999996423721313, 0.9999996423721313, 0.9999996423721313, 0.9999996423721313, 0.9999996423721313, 0, 0.9999996423721313, 0.9999996423721313, 0.9999996423721313, 0, 0.9999996423721313, 0.9733943939208984, 0.9999996423721313, 0.9999996423721313, 0.9999996423721313, 0.9999996423721313, 0, 0.9999996423721313, 0.9999996423721313, 0.9999996423721313, 0.9999996423721313, 0.9999996423721313, 0.9999996423721313, 0.9999996423721313, 0.9999996423721313, 0.9999996423721313, 0, 0.9999996423721313, 0.9999996423721313, 0.9999996423721313, 0, 0.9999996423721313, 0.9999996423721313, 0.9999996423721313, 0.0022440506145358086, 0.9999996423721313, 0.9999996423721313, 0.9999996423721313, 0.9999972581863403, 0.9999996423721313, 0.9999996423721313, 0.9999996423721313, 0.9999996423721313, 0, 0.9999996423721313, 0.9999996423721313, 0.9999996423721313, 0, 0, 0, 0, 0.9999996423721313, 0.9999996423721313, 0.9999996423721313, 0.9999996423721313, 0.9999996423721313, 0.9999996423721313, 0.9999996423721313, 0.9999996423721313, 0, 0.9999996423721313, 0.9999996423721313, 0.9999996423721313, 0.9999996423721313, 0.9999996423721313, 0, 0.9999996423721313, 0.9999996423721313, 0.9993353486061096, 0, 0.9999996423721313, 0, 0.9999996423721313, 0.9997416138648987, 0, 0.9999996423721313, 0, 0.9999996423721313, 0.9999996423721313, 0.9999996423721313, 0.9999996423721313, 0.9999996423721313, 0, 0.9999996423721313, 0, 0.9999996423721313]\n"
          ]
        },
        {
          "output_type": "execute_result",
          "data": {
            "text/plain": [
              "'ok'"
            ],
            "application/vnd.google.colaboratory.intrinsic+json": {
              "type": "string"
            }
          },
          "metadata": {},
          "execution_count": 40
        }
      ]
    },
    {
      "cell_type": "markdown",
      "source": [
        "Итак, мы наглядно показали - даже небольшая полносвязанная сеть способна уже решать нетривиалные задачи и решать их крайне успешно."
      ],
      "metadata": {
        "id": "jas7H_rPN45Y"
      }
    }
  ]
}