{
  "cells": [
    {
      "cell_type": "code",
      "execution_count": null,
      "metadata": {
        "id": "8OnlcSTpgchJ"
      },
      "outputs": [],
      "source": [
        "#!pip install -U scikit-learn pandas numpy catboost plotly nbformat"
      ]
    },
    {
      "cell_type": "markdown",
      "metadata": {
        "id": "p79vf8FjgchK"
      },
      "source": [
        "### Knn"
      ]
    },
    {
      "cell_type": "markdown",
      "metadata": {
        "id": "BDQi7GOOj609"
      },
      "source": [
        "Загрузим данные и разделим их на тренировочную и валидационную части"
      ]
    },
    {
      "cell_type": "code",
      "execution_count": null,
      "metadata": {
        "id": "860HOIqIgchM"
      },
      "outputs": [],
      "source": [
        "from sklearn.model_selection import train_test_split\n",
        "\n",
        "import pandas as pd\n",
        "\n",
        "train_data = pd.read_csv('train.csv', header=None)\n",
        "train_target = pd.read_csv('train-target.csv', header=None)\n",
        "\n",
        "\n",
        "X_train, X_val, y_train, y_val = train_test_split(train_data, train_target, test_size=0.2)"
      ]
    },
    {
      "cell_type": "markdown",
      "metadata": {
        "id": "c1xLJcw4j60_"
      },
      "source": [
        "Реализуем KNN и вычислим метрику roc_auc"
      ]
    },
    {
      "cell_type": "code",
      "execution_count": null,
      "metadata": {
        "colab": {
          "base_uri": "https://localhost:8080/"
        },
        "id": "WD9ZlRcvgchN",
        "outputId": "fa0ed31a-a8dd-4d2a-d3ed-2bcb3993e4d6"
      },
      "outputs": [
        {
          "name": "stderr",
          "output_type": "stream",
          "text": [
            "/usr/local/lib/python3.10/dist-packages/sklearn/neighbors/_classification.py:238: DataConversionWarning: A column-vector y was passed when a 1d array was expected. Please change the shape of y to (n_samples,), for example using ravel().\n",
            "  return self._fit(X, y)\n"
          ]
        },
        {
          "name": "stdout",
          "output_type": "stream",
          "text": [
            "kNN при n_neighbors = 1\n",
            "TEST:  ROC-AUC -- 0.6740591633117452\n",
            "TRAIN: ROC-AUC -- 1.0\n"
          ]
        }
      ],
      "source": [
        "from sklearn.neighbors import KNeighborsClassifier\n",
        "# В библиотеки sklearn эта метрика\n",
        "from sklearn.metrics import roc_auc_score\n",
        "\n",
        "knn_clf = KNeighborsClassifier(n_neighbors=1, metric='manhattan')\n",
        "knn_clf.fit(X=X_train, y=y_train)\n",
        "\n",
        "# Посмотрим  метрику  для knn\n",
        "# Для ROC-AUC нам нужны вероятности принадлежности положительному классу\n",
        "# Для получения вероятностей воспользуемся методом predict_proba и нам нужен второй столбец\n",
        "\n",
        "print(f\"kNN при n_neighbors = 1\")\n",
        "print(f\"TEST:  ROC-AUC -- {roc_auc_score(y_val, knn_clf.predict_proba(X_val)[:, 1])}\")\n",
        "print(f\"TRAIN: ROC-AUC -- {roc_auc_score(y_train, knn_clf.predict_proba(X_train)[:, 1])}\")"
      ]
    },
    {
      "cell_type": "markdown",
      "metadata": {
        "id": "vGPuOf5Wj61A"
      },
      "source": [
        "Зависимость метрики roc_auc от n_neighbors (числа ближайших соседей)"
      ]
    },
    {
      "cell_type": "code",
      "execution_count": null,
      "metadata": {
        "colab": {
          "base_uri": "https://localhost:8080/"
        },
        "id": "F2tl8tg6gchO",
        "outputId": "6bf31214-4fff-4d01-c82d-efbed5d0f853"
      },
      "outputs": [
        {
          "name": "stderr",
          "output_type": "stream",
          "text": [
            "/usr/local/lib/python3.10/dist-packages/sklearn/neighbors/_classification.py:238: DataConversionWarning: A column-vector y was passed when a 1d array was expected. Please change the shape of y to (n_samples,), for example using ravel().\n",
            "  return self._fit(X, y)\n",
            "/usr/local/lib/python3.10/dist-packages/sklearn/neighbors/_classification.py:238: DataConversionWarning: A column-vector y was passed when a 1d array was expected. Please change the shape of y to (n_samples,), for example using ravel().\n",
            "  return self._fit(X, y)\n",
            "/usr/local/lib/python3.10/dist-packages/sklearn/neighbors/_classification.py:238: DataConversionWarning: A column-vector y was passed when a 1d array was expected. Please change the shape of y to (n_samples,), for example using ravel().\n",
            "  return self._fit(X, y)\n",
            "/usr/local/lib/python3.10/dist-packages/sklearn/neighbors/_classification.py:238: DataConversionWarning: A column-vector y was passed when a 1d array was expected. Please change the shape of y to (n_samples,), for example using ravel().\n",
            "  return self._fit(X, y)\n",
            "/usr/local/lib/python3.10/dist-packages/sklearn/neighbors/_classification.py:238: DataConversionWarning: A column-vector y was passed when a 1d array was expected. Please change the shape of y to (n_samples,), for example using ravel().\n",
            "  return self._fit(X, y)\n",
            "/usr/local/lib/python3.10/dist-packages/sklearn/neighbors/_classification.py:238: DataConversionWarning: A column-vector y was passed when a 1d array was expected. Please change the shape of y to (n_samples,), for example using ravel().\n",
            "  return self._fit(X, y)\n",
            "/usr/local/lib/python3.10/dist-packages/sklearn/neighbors/_classification.py:238: DataConversionWarning: A column-vector y was passed when a 1d array was expected. Please change the shape of y to (n_samples,), for example using ravel().\n",
            "  return self._fit(X, y)\n",
            "/usr/local/lib/python3.10/dist-packages/sklearn/neighbors/_classification.py:238: DataConversionWarning: A column-vector y was passed when a 1d array was expected. Please change the shape of y to (n_samples,), for example using ravel().\n",
            "  return self._fit(X, y)\n",
            "/usr/local/lib/python3.10/dist-packages/sklearn/neighbors/_classification.py:238: DataConversionWarning: A column-vector y was passed when a 1d array was expected. Please change the shape of y to (n_samples,), for example using ravel().\n",
            "  return self._fit(X, y)\n",
            "/usr/local/lib/python3.10/dist-packages/sklearn/neighbors/_classification.py:238: DataConversionWarning: A column-vector y was passed when a 1d array was expected. Please change the shape of y to (n_samples,), for example using ravel().\n",
            "  return self._fit(X, y)\n",
            "/usr/local/lib/python3.10/dist-packages/sklearn/neighbors/_classification.py:238: DataConversionWarning: A column-vector y was passed when a 1d array was expected. Please change the shape of y to (n_samples,), for example using ravel().\n",
            "  return self._fit(X, y)\n",
            "/usr/local/lib/python3.10/dist-packages/sklearn/neighbors/_classification.py:238: DataConversionWarning: A column-vector y was passed when a 1d array was expected. Please change the shape of y to (n_samples,), for example using ravel().\n",
            "  return self._fit(X, y)\n",
            "/usr/local/lib/python3.10/dist-packages/sklearn/neighbors/_classification.py:238: DataConversionWarning: A column-vector y was passed when a 1d array was expected. Please change the shape of y to (n_samples,), for example using ravel().\n",
            "  return self._fit(X, y)\n",
            "/usr/local/lib/python3.10/dist-packages/sklearn/neighbors/_classification.py:238: DataConversionWarning: A column-vector y was passed when a 1d array was expected. Please change the shape of y to (n_samples,), for example using ravel().\n",
            "  return self._fit(X, y)\n",
            "/usr/local/lib/python3.10/dist-packages/sklearn/neighbors/_classification.py:238: DataConversionWarning: A column-vector y was passed when a 1d array was expected. Please change the shape of y to (n_samples,), for example using ravel().\n",
            "  return self._fit(X, y)\n",
            "/usr/local/lib/python3.10/dist-packages/sklearn/neighbors/_classification.py:238: DataConversionWarning: A column-vector y was passed when a 1d array was expected. Please change the shape of y to (n_samples,), for example using ravel().\n",
            "  return self._fit(X, y)\n",
            "/usr/local/lib/python3.10/dist-packages/sklearn/neighbors/_classification.py:238: DataConversionWarning: A column-vector y was passed when a 1d array was expected. Please change the shape of y to (n_samples,), for example using ravel().\n",
            "  return self._fit(X, y)\n"
          ]
        }
      ],
      "source": [
        "from sklearn.neighbors import KNeighborsClassifier\n",
        "from sklearn.metrics import roc_auc_score\n",
        "\n",
        "list_roc_auc = []\n",
        "list_n = []\n",
        "for n in range(1, 18):\n",
        "    knn_clf = KNeighborsClassifier(n_neighbors=n, metric='manhattan')\n",
        "    knn_clf.fit(X=X_train, y=y_train)\n",
        "    list_roc_auc.append(roc_auc_score(y_val, knn_clf.predict_proba(X_val)[:, 1]))\n",
        "    list_n.append(n)"
      ]
    },
    {
      "cell_type": "markdown",
      "metadata": {
        "id": "MPY3XYXxj61B"
      },
      "source": [
        "График зависимости roc_auс.\n",
        "\n",
        "Из него мы видим, что при значениях n > 15 roc_auc_score максимален."
      ]
    },
    {
      "cell_type": "code",
      "execution_count": null,
      "metadata": {
        "colab": {
          "base_uri": "https://localhost:8080/"
        },
        "id": "yeV-_qzJgchO",
        "outputId": "723934c2-6d48-446f-e5aa-2247f9756198"
      },
      "outputs": [
        {
          "data": {
            "image/png": "[encoded data removed]",
            "text/plain": [
              "<Figure size 640x480 with 1 Axes>"
            ]
          },
          "metadata": {},
          "output_type": "display_data"
        }
      ],
      "source": [
        "import matplotlib.pyplot as plt\n",
        "\n",
        "plt.plot(list_n, list_roc_auc)\n",
        "plt.xlabel('n_neighbors')\n",
        "plt.ylabel('roc_auc_score')\n",
        "plt.grid(visible=True)\n",
        "plt.show()"
      ]
    },
    {
      "cell_type": "code",
      "execution_count": null,
      "metadata": {
        "colab": {
          "base_uri": "https://localhost:8080/"
        },
        "id": "p7K1U-W1gchO",
        "outputId": "01f6d904-7051-4c3f-8006-4c5727586b40"
      },
      "outputs": [
        {
          "name": "stderr",
          "output_type": "stream",
          "text": [
            "/usr/local/lib/python3.10/dist-packages/sklearn/neighbors/_classification.py:238: DataConversionWarning: A column-vector y was passed when a 1d array was expected. Please change the shape of y to (n_samples,), for example using ravel().\n",
            "  return self._fit(X, y)\n"
          ]
        },
        {
          "name": "stdout",
          "output_type": "stream",
          "text": [
            "kNN при n_neighbors = 1\n",
            "TEST:  ROC-AUC -- 0.8682698607186616\n",
            "TRAIN: ROC-AUC -- 0.8728557638168692\n"
          ]
        }
      ],
      "source": [
        "from sklearn.neighbors import KNeighborsClassifier\n",
        "\n",
        "knn_clf = KNeighborsClassifier(n_neighbors=15, metric='manhattan')\n",
        "knn_clf.fit(train_data, y=train_target)\n",
        "print(f\"kNN при n_neighbors = 1\")\n",
        "print(f\"TEST:  ROC-AUC -- {roc_auc_score(y_val, knn_clf.predict_proba(X_val)[:, 1])}\")\n",
        "print(f\"TRAIN: ROC-AUC -- {roc_auc_score(y_train, knn_clf.predict_proba(X_train)[:, 1])}\")"
      ]
    },
    {
      "cell_type": "markdown",
      "metadata": {
        "id": "9uEJUm2tj61D"
      },
      "source": [
        "Функция сохранения результатов модели для платформы ALL Cups"
      ]
    },
    {
      "cell_type": "code",
      "execution_count": null,
      "metadata": {
        "id": "Dsfl8_SogchO"
      },
      "outputs": [],
      "source": [
        "def save_array_to_submission(array, name='last_submission'):\n",
        "\n",
        "    assert array.shape == (2000, 2), 'shape doesnt match'\n",
        "\n",
        "    df_subm = pd.DataFrame(array, columns=[0,1])\n",
        "\n",
        "    df_subm[1].to_csv(f'{name}.csv', index=False, header=False)\n",
        "    return 'ok'"
      ]
    },
    {
      "cell_type": "code",
      "execution_count": null,
      "metadata": {
        "colab": {
          "base_uri": "https://localhost:8080/"
        },
        "id": "ASJjMjiSgchP",
        "outputId": "caaf203a-883f-45d4-d769-5fbc8571e91c"
      },
      "outputs": [
        {
          "data": {
            "application/vnd.google.colaboratory.intrinsic+json": {
              "type": "string"
            },
            "text/plain": [
              "'ok'"
            ]
          },
          "execution_count": 8,
          "metadata": {},
          "output_type": "execute_result"
        }
      ],
      "source": [
        "test_data = pd.read_csv('test.csv', header=None)\n",
        "predict = knn_clf.predict_proba(test_data)\n",
        "save_array_to_submission(predict, name='knn_n_15')"
      ]
    },
    {
      "cell_type": "markdown",
      "metadata": {
        "id": "qWrPhjovj61F"
      },
      "source": [
        "Используя модель KNN  меняя n_neighbors получили следующие данные\n",
        "\n",
        "| n_neighbors | roc_auc_score модели 2 | roc_auc на платформе All Cups 3 |\n",
        "|---------------|----------------------|----------|\n",
        "| 5             | 0.789                    | 0.762  |\n",
        "| 10            | 0.818                    | 0.793   |\n",
        "| 15            | 0.866                    | 0.794   |"
      ]
    },
    {
      "cell_type": "markdown",
      "metadata": {
        "id": "bmxjP3oPgchP"
      },
      "source": [
        "## Логистическая регрессия"
      ]
    },
    {
      "cell_type": "markdown",
      "metadata": {
        "id": "nXx6kOwij61G"
      },
      "source": [
        "Загрузка данных"
      ]
    },
    {
      "cell_type": "code",
      "execution_count": null,
      "metadata": {
        "id": "ylP2scsBgchP"
      },
      "outputs": [],
      "source": [
        "from sklearn.model_selection import train_test_split\n",
        "\n",
        "import pandas as pd\n",
        "\n",
        "train_data = pd.read_csv('train.csv', header=None)\n",
        "train_target = pd.read_csv('train-target.csv', header=None)[0]\n",
        "\n",
        "# Разделим данные на обучене и тест (как и раньше со стратификацией по таргету)\n",
        "X_train, X_val, y_train, y_val = train_test_split(train_data, train_target, test_size=0.25, stratify = train_target, random_state=0)"
      ]
    },
    {
      "cell_type": "code",
      "execution_count": null,
      "metadata": {
        "colab": {
          "base_uri": "https://localhost:8080/"
        },
        "id": "-K0U-kEhgchP",
        "outputId": "a057eac4-719c-4730-8c44-a54ed62f8a59"
      },
      "outputs": [
        {
          "name": "stderr",
          "output_type": "stream",
          "text": [
            "/usr/local/lib/python3.10/dist-packages/sklearn/linear_model/_logistic.py:469: ConvergenceWarning: lbfgs failed to converge (status=1):\n",
            "STOP: TOTAL NO. of ITERATIONS REACHED LIMIT.\n",
            "\n",
            "Increase the number of iterations (max_iter) or scale the data as shown in:\n",
            "    https://scikit-learn.org/stable/modules/preprocessing.html\n",
            "Please also refer to the documentation for alternative solver options:\n",
            "    https://scikit-learn.org/stable/modules/linear_model.html#logistic-regression\n",
            "  n_iter_i = _check_optimize_result(\n"
          ]
        },
        {
          "data": {
            "text/html": [
              "<style>#sk-container-id-1 {\n",
              "  /* Definition of color scheme common for light and dark mode */\n",
              "  --sklearn-color-text: black;\n",
              "  --sklearn-color-line: gray;\n",
              "  /* Definition of color scheme for unfitted estimators */\n",
              "  --sklearn-color-unfitted-level-0: #fff5e6;\n",
              "  --sklearn-color-unfitted-level-1: #f6e4d2;\n",
              "  --sklearn-color-unfitted-level-2: #ffe0b3;\n",
              "  --sklearn-color-unfitted-level-3: chocolate;\n",
              "  /* Definition of color scheme for fitted estimators */\n",
              "  --sklearn-color-fitted-level-0: #f0f8ff;\n",
              "  --sklearn-color-fitted-level-1: #d4ebff;\n",
              "  --sklearn-color-fitted-level-2: #b3dbfd;\n",
              "  --sklearn-color-fitted-level-3: cornflowerblue;\n",
              "\n",
              "  /* Specific color for light theme */\n",
              "  --sklearn-color-text-on-default-background: var(--sg-text-color, var(--theme-code-foreground, var(--jp-content-font-color1, black)));\n",
              "  --sklearn-color-background: var(--sg-background-color, var(--theme-background, var(--jp-layout-color0, white)));\n",
              "  --sklearn-color-border-box: var(--sg-text-color, var(--theme-code-foreground, var(--jp-content-font-color1, black)));\n",
              "  --sklearn-color-icon: #696969;\n",
              "\n",
              "  @media (prefers-color-scheme: dark) {\n",
              "    /* Redefinition of color scheme for dark theme */\n",
              "    --sklearn-color-text-on-default-background: var(--sg-text-color, var(--theme-code-foreground, var(--jp-content-font-color1, white)));\n",
              "    --sklearn-color-background: var(--sg-background-color, var(--theme-background, var(--jp-layout-color0, #111)));\n",
              "    --sklearn-color-border-box: var(--sg-text-color, var(--theme-code-foreground, var(--jp-content-font-color1, white)));\n",
              "    --sklearn-color-icon: #878787;\n",
              "  }\n",
              "}\n",
              "\n",
              "#sk-container-id-1 {\n",
              "  color: var(--sklearn-color-text);\n",
              "}\n",
              "\n",
              "#sk-container-id-1 pre {\n",
              "  padding: 0;\n",
              "}\n",
              "\n",
              "#sk-container-id-1 input.sk-hidden--visually {\n",
              "  border: 0;\n",
              "  clip: rect(1px 1px 1px 1px);\n",
              "  clip: rect(1px, 1px, 1px, 1px);\n",
              "  height: 1px;\n",
              "  margin: -1px;\n",
              "  overflow: hidden;\n",
              "  padding: 0;\n",
              "  position: absolute;\n",
              "  width: 1px;\n",
              "}\n",
              "\n",
              "#sk-container-id-1 div.sk-dashed-wrapped {\n",
              "  border: 1px dashed var(--sklearn-color-line);\n",
              "  margin: 0 0.4em 0.5em 0.4em;\n",
              "  box-sizing: border-box;\n",
              "  padding-bottom: 0.4em;\n",
              "  background-color: var(--sklearn-color-background);\n",
              "}\n",
              "\n",
              "#sk-container-id-1 div.sk-container {\n",
              "  /* jupyter's `normalize.less` sets `[hidden] { display: none; }`\n",
              "     but bootstrap.min.css set `[hidden] { display: none !important; }`\n",
              "     so we also need the `!important` here to be able to override the\n",
              "     default hidden behavior on the sphinx rendered scikit-learn.org.\n",
              "     See: https://github.com/scikit-learn/scikit-learn/issues/21755 */\n",
              "  display: inline-block !important;\n",
              "  position: relative;\n",
              "}\n",
              "\n",
              "#sk-container-id-1 div.sk-text-repr-fallback {\n",
              "  display: none;\n",
              "}\n",
              "\n",
              "div.sk-parallel-item,\n",
              "div.sk-serial,\n",
              "div.sk-item {\n",
              "  /* draw centered vertical line to link estimators */\n",
              "  background-image: linear-gradient(var(--sklearn-color-text-on-default-background), var(--sklearn-color-text-on-default-background));\n",
              "  background-size: 2px 100%;\n",
              "  background-repeat: no-repeat;\n",
              "  background-position: center center;\n",
              "}\n",
              "\n",
              "/* Parallel-specific style estimator block */\n",
              "\n",
              "#sk-container-id-1 div.sk-parallel-item::after {\n",
              "  content: \"\";\n",
              "  width: 100%;\n",
              "  border-bottom: 2px solid var(--sklearn-color-text-on-default-background);\n",
              "  flex-grow: 1;\n",
              "}\n",
              "\n",
              "#sk-container-id-1 div.sk-parallel {\n",
              "  display: flex;\n",
              "  align-items: stretch;\n",
              "  justify-content: center;\n",
              "  background-color: var(--sklearn-color-background);\n",
              "  position: relative;\n",
              "}\n",
              "\n",
              "#sk-container-id-1 div.sk-parallel-item {\n",
              "  display: flex;\n",
              "  flex-direction: column;\n",
              "}\n",
              "\n",
              "#sk-container-id-1 div.sk-parallel-item:first-child::after {\n",
              "  align-self: flex-end;\n",
              "  width: 50%;\n",
              "}\n",
              "\n",
              "#sk-container-id-1 div.sk-parallel-item:last-child::after {\n",
              "  align-self: flex-start;\n",
              "  width: 50%;\n",
              "}\n",
              "\n",
              "#sk-container-id-1 div.sk-parallel-item:only-child::after {\n",
              "  width: 0;\n",
              "}\n",
              "\n",
              "/* Serial-specific style estimator block */\n",
              "\n",
              "#sk-container-id-1 div.sk-serial {\n",
              "  display: flex;\n",
              "  flex-direction: column;\n",
              "  align-items: center;\n",
              "  background-color: var(--sklearn-color-background);\n",
              "  padding-right: 1em;\n",
              "  padding-left: 1em;\n",
              "}\n",
              "\n",
              "\n",
              "/* Toggleable style: style used for estimator/Pipeline/ColumnTransformer box that is\n",
              "clickable and can be expanded/collapsed.\n",
              "- Pipeline and ColumnTransformer use this feature and define the default style\n",
              "- Estimators will overwrite some part of the style using the `sk-estimator` class\n",
              "*/\n",
              "\n",
              "/* Pipeline and ColumnTransformer style (default) */\n",
              "\n",
              "#sk-container-id-1 div.sk-toggleable {\n",
              "  /* Default theme specific background. It is overwritten whether we have a\n",
              "  specific estimator or a Pipeline/ColumnTransformer */\n",
              "  background-color: var(--sklearn-color-background);\n",
              "}\n",
              "\n",
              "/* Toggleable label */\n",
              "#sk-container-id-1 label.sk-toggleable__label {\n",
              "  cursor: pointer;\n",
              "  display: block;\n",
              "  width: 100%;\n",
              "  margin-bottom: 0;\n",
              "  padding: 0.5em;\n",
              "  box-sizing: border-box;\n",
              "  text-align: center;\n",
              "}\n",
              "\n",
              "#sk-container-id-1 label.sk-toggleable__label-arrow:before {\n",
              "  /* Arrow on the left of the label */\n",
              "  content: \"▸\";\n",
              "  float: left;\n",
              "  margin-right: 0.25em;\n",
              "  color: var(--sklearn-color-icon);\n",
              "}\n",
              "\n",
              "#sk-container-id-1 label.sk-toggleable__label-arrow:hover:before {\n",
              "  color: var(--sklearn-color-text);\n",
              "}\n",
              "\n",
              "/* Toggleable content - dropdown */\n",
              "\n",
              "#sk-container-id-1 div.sk-toggleable__content {\n",
              "  max-height: 0;\n",
              "  max-width: 0;\n",
              "  overflow: hidden;\n",
              "  text-align: left;\n",
              "  /* unfitted */\n",
              "  background-color: var(--sklearn-color-unfitted-level-0);\n",
              "}\n",
              "\n",
              "#sk-container-id-1 div.sk-toggleable__content.fitted {\n",
              "  /* fitted */\n",
              "  background-color: var(--sklearn-color-fitted-level-0);\n",
              "}\n",
              "\n",
              "#sk-container-id-1 div.sk-toggleable__content pre {\n",
              "  margin: 0.2em;\n",
              "  border-radius: 0.25em;\n",
              "  color: var(--sklearn-color-text);\n",
              "  /* unfitted */\n",
              "  background-color: var(--sklearn-color-unfitted-level-0);\n",
              "}\n",
              "\n",
              "#sk-container-id-1 div.sk-toggleable__content.fitted pre {\n",
              "  /* unfitted */\n",
              "  background-color: var(--sklearn-color-fitted-level-0);\n",
              "}\n",
              "\n",
              "#sk-container-id-1 input.sk-toggleable__control:checked~div.sk-toggleable__content {\n",
              "  /* Expand drop-down */\n",
              "  max-height: 200px;\n",
              "  max-width: 100%;\n",
              "  overflow: auto;\n",
              "}\n",
              "\n",
              "#sk-container-id-1 input.sk-toggleable__control:checked~label.sk-toggleable__label-arrow:before {\n",
              "  content: \"▾\";\n",
              "}\n",
              "\n",
              "/* Pipeline/ColumnTransformer-specific style */\n",
              "\n",
              "#sk-container-id-1 div.sk-label input.sk-toggleable__control:checked~label.sk-toggleable__label {\n",
              "  color: var(--sklearn-color-text);\n",
              "  background-color: var(--sklearn-color-unfitted-level-2);\n",
              "}\n",
              "\n",
              "#sk-container-id-1 div.sk-label.fitted input.sk-toggleable__control:checked~label.sk-toggleable__label {\n",
              "  background-color: var(--sklearn-color-fitted-level-2);\n",
              "}\n",
              "\n",
              "/* Estimator-specific style */\n",
              "\n",
              "/* Colorize estimator box */\n",
              "#sk-container-id-1 div.sk-estimator input.sk-toggleable__control:checked~label.sk-toggleable__label {\n",
              "  /* unfitted */\n",
              "  background-color: var(--sklearn-color-unfitted-level-2);\n",
              "}\n",
              "\n",
              "#sk-container-id-1 div.sk-estimator.fitted input.sk-toggleable__control:checked~label.sk-toggleable__label {\n",
              "  /* fitted */\n",
              "  background-color: var(--sklearn-color-fitted-level-2);\n",
              "}\n",
              "\n",
              "#sk-container-id-1 div.sk-label label.sk-toggleable__label,\n",
              "#sk-container-id-1 div.sk-label label {\n",
              "  /* The background is the default theme color */\n",
              "  color: var(--sklearn-color-text-on-default-background);\n",
              "}\n",
              "\n",
              "/* On hover, darken the color of the background */\n",
              "#sk-container-id-1 div.sk-label:hover label.sk-toggleable__label {\n",
              "  color: var(--sklearn-color-text);\n",
              "  background-color: var(--sklearn-color-unfitted-level-2);\n",
              "}\n",
              "\n",
              "/* Label box, darken color on hover, fitted */\n",
              "#sk-container-id-1 div.sk-label.fitted:hover label.sk-toggleable__label.fitted {\n",
              "  color: var(--sklearn-color-text);\n",
              "  background-color: var(--sklearn-color-fitted-level-2);\n",
              "}\n",
              "\n",
              "/* Estimator label */\n",
              "\n",
              "#sk-container-id-1 div.sk-label label {\n",
              "  font-family: monospace;\n",
              "  font-weight: bold;\n",
              "  display: inline-block;\n",
              "  line-height: 1.2em;\n",
              "}\n",
              "\n",
              "#sk-container-id-1 div.sk-label-container {\n",
              "  text-align: center;\n",
              "}\n",
              "\n",
              "/* Estimator-specific */\n",
              "#sk-container-id-1 div.sk-estimator {\n",
              "  font-family: monospace;\n",
              "  border: 1px dotted var(--sklearn-color-border-box);\n",
              "  border-radius: 0.25em;\n",
              "  box-sizing: border-box;\n",
              "  margin-bottom: 0.5em;\n",
              "  /* unfitted */\n",
              "  background-color: var(--sklearn-color-unfitted-level-0);\n",
              "}\n",
              "\n",
              "#sk-container-id-1 div.sk-estimator.fitted {\n",
              "  /* fitted */\n",
              "  background-color: var(--sklearn-color-fitted-level-0);\n",
              "}\n",
              "\n",
              "/* on hover */\n",
              "#sk-container-id-1 div.sk-estimator:hover {\n",
              "  /* unfitted */\n",
              "  background-color: var(--sklearn-color-unfitted-level-2);\n",
              "}\n",
              "\n",
              "#sk-container-id-1 div.sk-estimator.fitted:hover {\n",
              "  /* fitted */\n",
              "  background-color: var(--sklearn-color-fitted-level-2);\n",
              "}\n",
              "\n",
              "/* Specification for estimator info (e.g. \"i\" and \"?\") */\n",
              "\n",
              "/* Common style for \"i\" and \"?\" */\n",
              "\n",
              ".sk-estimator-doc-link,\n",
              "a:link.sk-estimator-doc-link,\n",
              "a:visited.sk-estimator-doc-link {\n",
              "  float: right;\n",
              "  font-size: smaller;\n",
              "  line-height: 1em;\n",
              "  font-family: monospace;\n",
              "  background-color: var(--sklearn-color-background);\n",
              "  border-radius: 1em;\n",
              "  height: 1em;\n",
              "  width: 1em;\n",
              "  text-decoration: none !important;\n",
              "  margin-left: 1ex;\n",
              "  /* unfitted */\n",
              "  border: var(--sklearn-color-unfitted-level-1) 1pt solid;\n",
              "  color: var(--sklearn-color-unfitted-level-1);\n",
              "}\n",
              "\n",
              ".sk-estimator-doc-link.fitted,\n",
              "a:link.sk-estimator-doc-link.fitted,\n",
              "a:visited.sk-estimator-doc-link.fitted {\n",
              "  /* fitted */\n",
              "  border: var(--sklearn-color-fitted-level-1) 1pt solid;\n",
              "  color: var(--sklearn-color-fitted-level-1);\n",
              "}\n",
              "\n",
              "/* On hover */\n",
              "div.sk-estimator:hover .sk-estimator-doc-link:hover,\n",
              ".sk-estimator-doc-link:hover,\n",
              "div.sk-label-container:hover .sk-estimator-doc-link:hover,\n",
              ".sk-estimator-doc-link:hover {\n",
              "  /* unfitted */\n",
              "  background-color: var(--sklearn-color-unfitted-level-3);\n",
              "  color: var(--sklearn-color-background);\n",
              "  text-decoration: none;\n",
              "}\n",
              "\n",
              "div.sk-estimator.fitted:hover .sk-estimator-doc-link.fitted:hover,\n",
              ".sk-estimator-doc-link.fitted:hover,\n",
              "div.sk-label-container:hover .sk-estimator-doc-link.fitted:hover,\n",
              ".sk-estimator-doc-link.fitted:hover {\n",
              "  /* fitted */\n",
              "  background-color: var(--sklearn-color-fitted-level-3);\n",
              "  color: var(--sklearn-color-background);\n",
              "  text-decoration: none;\n",
              "}\n",
              "\n",
              "/* Span, style for the box shown on hovering the info icon */\n",
              ".sk-estimator-doc-link span {\n",
              "  display: none;\n",
              "  z-index: 9999;\n",
              "  position: relative;\n",
              "  font-weight: normal;\n",
              "  right: .2ex;\n",
              "  padding: .5ex;\n",
              "  margin: .5ex;\n",
              "  width: min-content;\n",
              "  min-width: 20ex;\n",
              "  max-width: 50ex;\n",
              "  color: var(--sklearn-color-text);\n",
              "  box-shadow: 2pt 2pt 4pt #999;\n",
              "  /* unfitted */\n",
              "  background: var(--sklearn-color-unfitted-level-0);\n",
              "  border: .5pt solid var(--sklearn-color-unfitted-level-3);\n",
              "}\n",
              "\n",
              ".sk-estimator-doc-link.fitted span {\n",
              "  /* fitted */\n",
              "  background: var(--sklearn-color-fitted-level-0);\n",
              "  border: var(--sklearn-color-fitted-level-3);\n",
              "}\n",
              "\n",
              ".sk-estimator-doc-link:hover span {\n",
              "  display: block;\n",
              "}\n",
              "\n",
              "/* \"?\"-specific style due to the `<a>` HTML tag */\n",
              "\n",
              "#sk-container-id-1 a.estimator_doc_link {\n",
              "  float: right;\n",
              "  font-size: 1rem;\n",
              "  line-height: 1em;\n",
              "  font-family: monospace;\n",
              "  background-color: var(--sklearn-color-background);\n",
              "  border-radius: 1rem;\n",
              "  height: 1rem;\n",
              "  width: 1rem;\n",
              "  text-decoration: none;\n",
              "  /* unfitted */\n",
              "  color: var(--sklearn-color-unfitted-level-1);\n",
              "  border: var(--sklearn-color-unfitted-level-1) 1pt solid;\n",
              "}\n",
              "\n",
              "#sk-container-id-1 a.estimator_doc_link.fitted {\n",
              "  /* fitted */\n",
              "  border: var(--sklearn-color-fitted-level-1) 1pt solid;\n",
              "  color: var(--sklearn-color-fitted-level-1);\n",
              "}\n",
              "\n",
              "/* On hover */\n",
              "#sk-container-id-1 a.estimator_doc_link:hover {\n",
              "  /* unfitted */\n",
              "  background-color: var(--sklearn-color-unfitted-level-3);\n",
              "  color: var(--sklearn-color-background);\n",
              "  text-decoration: none;\n",
              "}\n",
              "\n",
              "#sk-container-id-1 a.estimator_doc_link.fitted:hover {\n",
              "  /* fitted */\n",
              "  background-color: var(--sklearn-color-fitted-level-3);\n",
              "}\n",
              "</style><div id=\"sk-container-id-1\" class=\"sk-top-container\"><div class=\"sk-text-repr-fallback\"><pre>LogisticRegression()</pre><b>In a Jupyter environment, please rerun this cell to show the HTML representation or trust the notebook. <br />On GitHub, the HTML representation is unable to render, please try loading this page with nbviewer.org.</b></div><div class=\"sk-container\" hidden><div class=\"sk-item\"><div class=\"sk-estimator fitted sk-toggleable\"><input class=\"sk-toggleable__control sk-hidden--visually\" id=\"sk-estimator-id-1\" type=\"checkbox\" checked><label for=\"sk-estimator-id-1\" class=\"sk-toggleable__label fitted sk-toggleable__label-arrow fitted\">&nbsp;&nbsp;LogisticRegression<a class=\"sk-estimator-doc-link fitted\" rel=\"noreferrer\" target=\"_blank\" href=\"https://scikit-learn.org/1.5/modules/generated/sklearn.linear_model.LogisticRegression.html\">?<span>Documentation for LogisticRegression</span></a><span class=\"sk-estimator-doc-link fitted\">i<span>Fitted</span></span></label><div class=\"sk-toggleable__content fitted\"><pre>LogisticRegression()</pre></div> </div></div></div></div>"
            ],
            "text/plain": [
              "LogisticRegression()"
            ]
          },
          "execution_count": 10,
          "metadata": {},
          "output_type": "execute_result"
        }
      ],
      "source": [
        "# Импортируем логистическую регрессию из модуля linear_model библиотеки sklearn\n",
        "from sklearn.linear_model import LogisticRegression\n",
        "# Содадим объект класса LogisticRegression с параметрами по умолчанию\n",
        "model_LR = LogisticRegression()\n",
        "# Обучим его на обучающем датасете\n",
        "model_LR.fit(X=X_train, y=y_train)"
      ]
    },
    {
      "cell_type": "markdown",
      "metadata": {
        "id": "nllivOv5oxOF"
      },
      "source": [
        "Расчет метрики"
      ]
    },
    {
      "cell_type": "code",
      "execution_count": null,
      "metadata": {
        "colab": {
          "base_uri": "https://localhost:8080/"
        },
        "id": "nFvO-1JsgchQ",
        "outputId": "1c268abf-ccf3-4d18-d323-2a4d8ee1587e"
      },
      "outputs": [
        {
          "name": "stdout",
          "output_type": "stream",
          "text": [
            "model_LR\n",
            "TEST:  ROC-AUC -- 0.99999935993077\n",
            "TRAIN: ROC-AUC -- 1.0\n"
          ]
        }
      ],
      "source": [
        "from sklearn.metrics import roc_auc_score\n",
        "\n",
        "# Посмотрим  метрику  ROC-AUC\n",
        "print(f\"model_LR\")\n",
        "print(f\"TEST:  ROC-AUC -- {roc_auc_score(y_val, model_LR.predict_proba(X_val)[:, 1])}\")\n",
        "print(f\"TRAIN: ROC-AUC -- {roc_auc_score(y_train, model_LR.predict_proba(X_train)[:, 1])}\")"
      ]
    },
    {
      "cell_type": "markdown",
      "metadata": {
        "id": "qxdslywNo-ls"
      },
      "source": [
        "Сохранение данных для ALL Cups"
      ]
    },
    {
      "cell_type": "code",
      "execution_count": null,
      "metadata": {
        "colab": {
          "base_uri": "https://localhost:8080/"
        },
        "id": "bDI7irLGgchQ",
        "outputId": "2a1a1fb9-7d22-4e8f-9bc3-231cd3acd738"
      },
      "outputs": [
        {
          "data": {
            "application/vnd.google.colaboratory.intrinsic+json": {
              "type": "string"
            },
            "text/plain": [
              "'ok'"
            ]
          },
          "execution_count": 12,
          "metadata": {},
          "output_type": "execute_result"
        }
      ],
      "source": [
        "test_data = pd.read_csv('test.csv', header=None)\n",
        "predict = model_LR.predict_proba(test_data)\n",
        "save_array_to_submission(predict, name='LR')"
      ]
    },
    {
      "cell_type": "markdown",
      "metadata": {
        "id": "S7XRR4okphEE"
      },
      "source": [
        "Приводим нашу выборку к нормальному распределению"
      ]
    },
    {
      "cell_type": "code",
      "execution_count": null,
      "metadata": {
        "id": "bGOproF_j61K"
      },
      "outputs": [],
      "source": [
        "# Импортируем класс Normalizer из модуля preprocessing библиотеки sklearn\n",
        "from sklearn.preprocessing import Normalizer\n",
        "# Отмасштабируем наши признаки\n",
        "# Создадим объект класса Normalizer\n",
        "scaler = Normalizer()\n",
        "\n",
        "# Сделаем .fit() на обучении\n",
        "scaler.fit(X_train, y_train)\n",
        "\n",
        "# .transform() на обучении и тесте (возвращает numpy, поэтому надо самим конвертировать обратно в dataframe с нужными индексами колонками)\n",
        "X_train = pd.DataFrame(scaler.transform(X_train), index=X_train.index, columns=X_train.columns)\n",
        "X_val  = pd.DataFrame(scaler.transform(X_val), index=X_val.index, columns=X_val.columns)"
      ]
    },
    {
      "cell_type": "code",
      "execution_count": null,
      "metadata": {
        "colab": {
          "base_uri": "https://localhost:8080/"
        },
        "id": "6GvaLcJjgchR",
        "outputId": "c04685da-18bc-48b2-e38c-8d0d2050a83f"
      },
      "outputs": [
        {
          "name": "stdout",
          "output_type": "stream",
          "text": [
            "model_LR\n",
            "TEST:  ROC-AUC -- 0.6551953459286155\n",
            "TRAIN: ROC-AUC -- 0.6582344882205149\n"
          ]
        }
      ],
      "source": [
        "# Построим логистическую регрессию на новых данных\n",
        "\n",
        "# Содадим объект класса LogisticRegression с параметрами по умолчанию\n",
        "model_LR = LogisticRegression()\n",
        "\n",
        "# Обучим его на обучающем датасете\n",
        "model_LR.fit(X_train, y_train)\n",
        "\n",
        "# Получим предсказания и посмотрим на долю правильных ответов:\n",
        "y_pred_test_LR = model_LR.predict(X_val)\n",
        "y_pred_train_LR = model_LR.predict(X_train)\n",
        "\n",
        "from sklearn.metrics import roc_auc_score\n",
        "\n",
        "# Посмотрим  метрику  ROC-AUC\n",
        "print(f\"model_LR\")\n",
        "print(f\"TEST:  ROC-AUC -- {roc_auc_score(y_val, model_LR.predict_proba(X_val)[:, 1])}\")\n",
        "print(f\"TRAIN: ROC-AUC -- {roc_auc_score(y_train, model_LR.predict_proba(X_train)[:, 1])}\")"
      ]
    },
    {
      "cell_type": "markdown",
      "metadata": {
        "id": "7t_-cta_qAWs"
      },
      "source": [
        "Сохранение данных для ALL Cups"
      ]
    },
    {
      "cell_type": "code",
      "execution_count": null,
      "metadata": {
        "colab": {
          "base_uri": "https://localhost:8080/"
        },
        "id": "mASdynQ4p-_s",
        "outputId": "c7327c68-6953-4ca8-a00a-37f8f9aacdea"
      },
      "outputs": [
        {
          "data": {
            "application/vnd.google.colaboratory.intrinsic+json": {
              "type": "string"
            },
            "text/plain": [
              "'ok'"
            ]
          },
          "execution_count": 15,
          "metadata": {},
          "output_type": "execute_result"
        }
      ],
      "source": [
        "test_data = pd.read_csv('test.csv', header=None)\n",
        "test_data  = pd.DataFrame(scaler.transform(test_data), index=test_data.index, columns=test_data.columns)\n",
        "predict = model_LR.predict_proba(test_data)\n",
        "save_array_to_submission(predict, name='LR_normal')"
      ]
    },
    {
      "cell_type": "markdown",
      "metadata": {
        "id": "ViGcpBo1j61L"
      },
      "source": [
        "В итоге используя логистическую мы получаем худшее значение метрики чем с Knn"
      ]
    },
    {
      "cell_type": "markdown",
      "metadata": {
        "id": "RHqmIxaEru7L"
      },
      "source": [
        "## Нейронная сеть"
      ]
    },
    {
      "cell_type": "code",
      "execution_count": null,
      "metadata": {
        "id": "ByDgK2-xgchR"
      },
      "outputs": [],
      "source": [
        "import os\n",
        "\n",
        "import pandas as pd\n",
        "import numpy as np\n",
        "\n",
        "\n",
        "from sklearn.model_selection import train_test_split\n",
        "import torch\n",
        "import torch.nn as nn\n",
        "import torch.nn.functional as F\n",
        "import torch.optim as optim # для оптимизаторов\n",
        "from torchvision import datasets # для данных\n",
        "import torchvision.transforms as transforms # для преобразований тензоров\n",
        "\n",
        "import matplotlib.pyplot as plt"
      ]
    },
    {
      "cell_type": "markdown",
      "metadata": {
        "id": "l8OfIxCMr4Dj"
      },
      "source": [
        "Загрузим наши данные."
      ]
    },
    {
      "cell_type": "code",
      "execution_count": null,
      "metadata": {
        "id": "7RfmTKqzgchR"
      },
      "outputs": [],
      "source": [
        "from torch.utils.data import TensorDataset, Dataset\n",
        "\n",
        "\n",
        "class CSVDataset(Dataset):\n",
        "    def __init__(self, x, y=None, transforms=None):\n",
        "        self.x = x\n",
        "        self.y = y\n",
        "        self.transforms = transforms\n",
        "\n",
        "    def __len__(self):\n",
        "        return len(self.x)\n",
        "\n",
        "    def __getitem__(self, idx):\n",
        "        sample_x = self.x[idx]\n",
        "        if self.y is not None:\n",
        "          sample_y = self.y[idx]\n",
        "          return (torch.tensor(sample_x, dtype=torch.float),\n",
        "                  torch.tensor(sample_y, dtype=torch.float),\n",
        "                 )\n",
        "        else:\n",
        "          sample_y = None\n",
        "          return (torch.tensor(sample_x, dtype=torch.float), None)\n"
      ]
    },
    {
      "cell_type": "code",
      "execution_count": null,
      "metadata": {
        "id": "3XhkZuuIsAFj"
      },
      "outputs": [],
      "source": [
        "\n",
        "# Load the data from a CSV file\n",
        "\n",
        "df_train_data = pd.read_csv('train.csv', header=None).drop ([9, 15, 16], axis= 1)\n",
        "df_train_target = pd.read_csv('train-target.csv', header=None)\n",
        "\n",
        "X_train, X_test, y_train, y_test = train_test_split(df_train_data, df_train_target, test_size=0.2)\n",
        "'''\n",
        "# Импортируем класс Normalizer из модуля preprocessing библиотеки sklearn\n",
        "from sklearn.preprocessing import Normalizer\n",
        "# Отмасштабируем наши признаки\n",
        "scaler = Normalizer()\n",
        "\n",
        "scaler.fit(X_train, y_train)\n",
        "\n",
        "# .transform() на обучении и тесте (возвращает numpy, поэтому надо самим конвертировать обратно в dataframe с нужными индексами колонками)\n",
        "X_train = pd.DataFrame(scaler.transform(X_train), index=X_train.index, columns=X_train.columns)\n",
        "X_test = pd.DataFrame(scaler.transform(X_test), index=X_test.index, columns=X_test.columns)\n",
        "\n",
        "'''\n",
        "train_dataset = CSVDataset(X_train.values,\n",
        "                           y_train.values)\n",
        "\n",
        "test_dataset = CSVDataset(X_test.values,\n",
        "                           y_test.values)\n",
        "\n",
        "\n",
        "trainset = torch.utils.data.DataLoader(train_dataset, batch_size=1, shuffle=False)\n",
        "testset = torch.utils.data.DataLoader(test_dataset, batch_size=1, shuffle=False)"
      ]
    },
    {
      "cell_type": "markdown",
      "metadata": {
        "id": "jVpK3qqhtTJ6"
      },
      "source": [
        "Модель сети"
      ]
    },
    {
      "cell_type": "code",
      "execution_count": null,
      "metadata": {
        "colab": {
          "base_uri": "https://localhost:8080/"
        },
        "id": "rWFvj7dRr_8l",
        "outputId": "d6a7fcc3-d232-4ac8-e3ec-249dfcc90662"
      },
      "outputs": [
        {
          "name": "stdout",
          "output_type": "stream",
          "text": [
            "Binary_Class_NET(\n",
            "  (fc1): Linear(in_features=27, out_features=64, bias=True)\n",
            "  (fc2): Linear(in_features=64, out_features=32, bias=True)\n",
            "  (fc3): Linear(in_features=32, out_features=1, bias=True)\n",
            "  (th): Tanh()\n",
            "  (relu): ReLU()\n",
            "  (sigmoid): Sigmoid()\n",
            "  (dropout): Dropout(p=0.1, inplace=False)\n",
            ")\n"
          ]
        }
      ],
      "source": [
        "n_hidden1 = 64\n",
        "n_hidden2 = 32\n",
        "\n",
        "\n",
        "class Binary_Class_NET(nn.Module): # наследуемся от класса nn.Module\n",
        "    def __init__(self):\n",
        "        super(Binary_Class_NET, self).__init__()\n",
        "\n",
        "        # первый слой\n",
        "        self.fc1 = nn.Linear(27, n_hidden1)\n",
        "        self.fc2 = nn.Linear(n_hidden1, n_hidden2)\n",
        "        self.fc3 = nn.Linear(n_hidden2, 1)\n",
        "\n",
        "\n",
        "        self.th = nn.Tanh()\n",
        "        self.relu = nn.ReLU()\n",
        "        self.sigmoid =  nn.Sigmoid()\n",
        "        self.dropout = nn.Dropout(p=0.1)\n",
        "\n",
        "        #self.fc4 = nn.Linear(7, 1)\n",
        "        torch.nn.init.uniform_(self.fc1.weight, -1, 1)\n",
        "        torch.nn.init.uniform_(self.fc2.weight, -1, 1)\n",
        "        torch.nn.init.uniform_(self.fc3.weight, -1, 1)\n",
        "        #torch.nn.init.uniform_(self.fc4.weight, -1, 1)\n",
        "        #torch.nn.init.uniform_(self.fc5.weight, -1, 1)\n",
        "        #print(self.fc1.weight)\n",
        "        #print(self.fc2.weight)\n",
        "        #print(self.fc3.weight)\n",
        "        #print(self.fc4.weight)\n",
        "\n",
        "    def forward(self, inputs):\n",
        "        x = inputs.view(-1)\n",
        "        x = self.sigmoid(self.fc1(x))\n",
        "        x = self.sigmoid(self.fc2(x))\n",
        "        # x = self.dropout(x)\n",
        "        x = self.sigmoid(self.fc3(x))\n",
        "        return x\n",
        "        #return F.log_softmax(x, dim=1)\n",
        "\n",
        "\n",
        "net = Binary_Class_NET()\n",
        "print(net)"
      ]
    },
    {
      "cell_type": "markdown",
      "metadata": {
        "id": "kgNTq-4_wYLO"
      },
      "source": [
        "Расчет метрики"
      ]
    },
    {
      "cell_type": "code",
      "execution_count": null,
      "metadata": {
        "id": "yVq_ifVDwZnC"
      },
      "outputs": [],
      "source": [
        "from sklearn.metrics import roc_auc_score\n",
        "\n",
        "def predict_bin_clas_net(tset=testset):\n",
        "  net.eval() # переводем модель в режим инференса\n",
        "  outputs = []\n",
        "  # показываем, что обученич нет и градиенты не обновляются\n",
        "  with torch.no_grad():\n",
        "    for data in tset:  # `data` это батч наших данных,\n",
        "      X = data[0]  # X это батч свойств, y это батч целевых переменных.\n",
        "      output = net(X)\n",
        "      outputs.append(output.item())\n",
        "  return outputs\n",
        "\n",
        "\n",
        "def print_roc_auc():\n",
        "  # Посмотрим  метрику  ROC-AUC\n",
        "  roc_auc = roc_auc_score(y_true=y_test, y_score=predict_bin_clas_net())\n",
        "  print(f\"TEST:  ROC-AUC -- {roc_auc}\")"
      ]
    },
    {
      "cell_type": "markdown",
      "metadata": {
        "id": "r4jWTtBhtfEr"
      },
      "source": [
        "Выбор оптимизатора и loss функции"
      ]
    },
    {
      "cell_type": "code",
      "execution_count": null,
      "metadata": {
        "colab": {
          "base_uri": "https://localhost:8080/"
        },
        "id": "5rP3HT0Lr_rr",
        "outputId": "ddf963d9-d076-4120-92cd-11345c39950a"
      },
      "outputs": [
        {
          "data": {
            "text/plain": [
              "<torch._C.Generator at 0x7851c7511bb0>"
            ]
          },
          "execution_count": 49,
          "metadata": {},
          "output_type": "execute_result"
        }
      ],
      "source": [
        "import torch.optim as optim\n",
        "\n",
        "loss_function = nn.BCELoss()\n",
        "# loss_function = nn.CrossEntropyLoss()\n",
        "optimizer = optim.Adam(net.parameters(), lr=0.01)\n",
        "# optimizer = optim.SGD(net.parameters(),lr = 0.01)\n",
        "scheduler = optim.lr_scheduler.StepLR(optimizer, step_size=5, gamma=0.8)\n",
        "torch.manual_seed(124)"
      ]
    },
    {
      "cell_type": "markdown",
      "metadata": {
        "id": "ZUHKWbWattVD"
      },
      "source": [
        "Обучение сети"
      ]
    },
    {
      "cell_type": "code",
      "execution_count": null,
      "metadata": {
        "colab": {
          "base_uri": "https://localhost:8080/"
        },
        "id": "eaEyV3hXsjr6",
        "outputId": "5fc3aa4a-2775-421e-fb03-309801bb33d3"
      },
      "outputs": [
        {
          "name": "stdout",
          "output_type": "stream",
          "text": [
            "epoch - 0 loss - 0.4112154245376587\n",
            "TEST:  ROC-AUC -- 0.766103331238215\n",
            "epoch - 1 loss - 0.4524688720703125\n",
            "TEST:  ROC-AUC -- 0.7688970458830924\n",
            "epoch - 2 loss - 0.20032669603824615\n",
            "TEST:  ROC-AUC -- 0.7718627278441232\n",
            "epoch - 3 loss - 0.48169028759002686\n",
            "TEST:  ROC-AUC -- 0.7773008170961659\n",
            "epoch - 4 loss - 0.3203635513782501\n",
            "TEST:  ROC-AUC -- 0.7782315524827152\n",
            "epoch - 5 loss - 0.12380079925060272\n",
            "TEST:  ROC-AUC -- 0.7821063482086739\n"
          ]
        },
        {
          "data": {
            "image/png": "[encoded data removed]",
            "text/plain": [
              "<Figure size 640x480 with 1 Axes>"
            ]
          },
          "metadata": {},
          "output_type": "display_data"
        }
      ],
      "source": [
        "list_loss = []\n",
        "for epoch in range(6): # три полных прохода по нашим данным\n",
        "    net.train() # обязательно переводим в режим обучения\n",
        "    for X, y in trainset:  # `data` это батч наших данных\n",
        "        # X, y = data  # X это батч свойств, y это батч целевых переменных.\n",
        "        #net.zero_grad()  # устанавливаем значение градиента в 0 перед вычислением функции потерь. Вам следует делать это на каждом шаге.\n",
        "        optimizer.zero_grad()\n",
        "        output = net(X)  # передаем выпрямленный батч\n",
        "\n",
        "        loss = loss_function(output, y.view(-1))  # вычисляем функцию потерь\n",
        "        loss.backward()  # передаем это значение назад по сети\n",
        "        optimizer.step()  # пытаемся оптимизировать значение весов исходя из потерь и градиента\n",
        "        #print(output)\n",
        "        #print(y.view(-1))\n",
        "        #print('loss', loss)  # выводим на экран значение функции потерь. Мы надеемся, что оно убывает!\n",
        "\n",
        "    print('epoch -', epoch, 'loss -', loss.item())  # выводим на экран значение функции потерь. Мы надеемся, что оно убывает!\n",
        "    list_loss.append(loss.item())\n",
        "    print_roc_auc()\n",
        "\n",
        "plt.plot(list_loss)\n",
        "plt.show()\n"
      ]
    },
    {
      "cell_type": "code",
      "execution_count": null,
      "metadata": {
        "colab": {
          "base_uri": "https://localhost:8080/"
        },
        "id": "b5DMVxUbslG-",
        "outputId": "d0d934e9-a38a-4418-efd3-ee7403ce5666"
      },
      "outputs": [
        {
          "name": "stdout",
          "output_type": "stream",
          "text": [
            "TEST:  ROC-AUC -- 0.7691426919271398\n"
          ]
        }
      ],
      "source": [
        "print_roc_auc()"
      ]
    },
    {
      "cell_type": "markdown",
      "metadata": {
        "id": "Ge5n80E5t8l6"
      },
      "source": [
        "Сохранение данных для ALL Cups"
      ]
    },
    {
      "cell_type": "code",
      "execution_count": null,
      "metadata": {
        "id": "ewgNXCN1slCa"
      },
      "outputs": [],
      "source": [
        "def save_array_to_submission(array, name='last_submission'):\n",
        "    assert len(array) == 2000, 'shape doesnt match'\n",
        "    df_subm = pd.DataFrame(array, columns=[0])\n",
        "    df_subm.to_csv(f'{name}.csv', index=False, header=False)\n",
        "    return 'ok'"
      ]
    },
    {
      "cell_type": "code",
      "execution_count": null,
      "metadata": {
        "colab": {
          "base_uri": "https://localhost:8080/",
          "height": 35
        },
        "id": "5jnJbpuHsk2C",
        "outputId": "116e4c34-5a4e-45f2-94be-0dfb6527780f"
      },
      "outputs": [
        {
          "data": {
            "application/vnd.google.colaboratory.intrinsic+json": {
              "type": "string"
            },
            "text/plain": [
              "'ok'"
            ]
          },
          "execution_count": 33,
          "metadata": {},
          "output_type": "execute_result"
        }
      ],
      "source": [
        "test_data = pd.read_csv('test.csv', header=None).drop ([9, 15, 16], axis= 1)\n",
        "#test_data = pd.DataFrame(scaler.transform(test_data), index=test_data.index, columns=test_data.columns)\n",
        "result_test_dataset = CSVDataset(x=test_data.values,\n",
        "                                 y=y_test.values)\n",
        "result_testset = torch.utils.data.DataLoader(result_test_dataset, batch_size=1, shuffle=False)\n",
        "\n",
        "predict = predict_bin_clas_net(result_testset)\n",
        "\n",
        "\n",
        "save_array_to_submission(predict, name='bc_net9')"
      ]
    },
    {
      "cell_type": "markdown",
      "metadata": {
        "id": "yNQ4lygVuHQa"
      },
      "source": [
        "В итоге используя нейронную сеть мы получаем худшее значение метрики чем с Knn"
      ]
    }
  ],
  "metadata": {
    "colab": {
      "collapsed_sections": [
        "bmxjP3oPgchP"
      ],
      "provenance": []
    },
    "kernelspec": {
      "display_name": ".mlenv",
      "language": "python",
      "name": "python3"
    },
    "language_info": {
      "codemirror_mode": {
        "name": "ipython",
        "version": 3
      },
      "file_extension": ".py",
      "mimetype": "text/x-python",
      "name": "python",
      "nbconvert_exporter": "python",
      "pygments_lexer": "ipython3",
      "version": "3.10.12"
    }
  },
  "nbformat": 4,
  "nbformat_minor": 0
}
